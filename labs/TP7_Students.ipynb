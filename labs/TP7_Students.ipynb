{
 "cells": [
  {
   "cell_type": "markdown",
   "id": "asian-maine",
   "metadata": {},
   "source": [
    "# TME: Community Detection\n",
    "\n",
    "### In this TME, you implement, apply and compare community detection algorithms."
   ]
  },
  {
   "cell_type": "code",
   "execution_count": null,
   "id": "guilty-launch",
   "metadata": {},
   "outputs": [],
   "source": [
    "from TP7_utility_functions import *\n",
    "from random import shuffle\n",
    "from json import dumps"
   ]
  },
  {
   "cell_type": "markdown",
   "id": "packed-architecture",
   "metadata": {},
   "source": [
    "## Preparatory Instructions\n",
    "\n",
    "#### Packages\n",
    "Make sure, you have installed the following Packages:\n",
    "* pip install numpy\n",
    "* pip install scipy\n",
    "* pip install scikit-learn\n",
    "* pip install networkx\n",
    "* pip install python-mnist\n",
    "* pip install python-louvain\n",
    "* pip install matplitlib\n",
    "\n",
    "#### KNN - Graph\n",
    "Additionally, make sure to have the python file **utility_functions.py** provided by the teacher. All functions listed in the appendix are contained in this file.\n",
    "\n",
    "#### Data\n",
    "Lastly, make sure to have the MNIST dataset in your working directory"
   ]
  },
  {
   "cell_type": "markdown",
   "id": "eligible-processor",
   "metadata": {},
   "source": [
    "---------\n"
   ]
  },
  {
   "cell_type": "markdown",
   "id": "loose-delhi",
   "metadata": {},
   "source": [
    "## TME Instructions"
   ]
  },
  {
   "cell_type": "markdown",
   "id": "referenced-cinema",
   "metadata": {},
   "source": [
    "### Exercise 1: Exploratory data analysis\n",
    "\n",
    "A common approach for data analysis is to look for patterns visually. This is also the case for community detection. \n",
    "\n",
    "Recall that a community is a group of vertices more densely connected between them than towards the rest the network. Therefore, it is common to try to see if there exists a community structure by visualizing the network and looking for groups of densely interconnected vertices. \n",
    "\n",
    "Naturally, if clusters can be identified visually, why to bother with community detection algorithms? The goal of this exercise is to explore the advantages and limitations of the exploratory approach for community detection and to motivate the need for automatic algorithms. "
   ]
  },
  {
   "cell_type": "markdown",
   "id": "active-madison",
   "metadata": {},
   "source": [
    "#### 1.1:  Communities on the Stochastic Block Model"
   ]
  },
  {
   "cell_type": "markdown",
   "id": "capable-wales",
   "metadata": {},
   "source": [
    "**1.1.1**. Generate a network from the stochastic block model (SBM). \\\n",
    "Use the following parameters: nodes_community=200, num_communities=5, degree_in = 5, degree_out = 0.5."
   ]
  },
  {
   "cell_type": "code",
   "execution_count": null,
   "id": "recreational-banana",
   "metadata": {},
   "outputs": [],
   "source": [
    "adjacency_matrix1, label1 = get_SBM_network(200, 5, 5, 0.5)"
   ]
  },
  {
   "cell_type": "markdown",
   "id": "novel-license",
   "metadata": {},
   "source": [
    "**1.1.2**. Visualize the network using the function network_visualization()"
   ]
  },
  {
   "cell_type": "code",
   "execution_count": null,
   "id": "close-injection",
   "metadata": {},
   "outputs": [],
   "source": [
    "network_visualization(adjacency_matrix1)"
   ]
  },
  {
   "cell_type": "markdown",
   "id": "interior-calibration",
   "metadata": {},
   "source": [
    "**1.1.3**. Repeat 1.1.1 and 1.1.2 multiple times by changing the values of the SBM parameters"
   ]
  },
  {
   "cell_type": "code",
   "execution_count": null,
   "id": "detected-husband",
   "metadata": {},
   "outputs": [],
   "source": [
    "adjacency_matrix2, label2 = get_SBM_network(10, 5, 5, 0.5)\n",
    "result = network_visualization(adjacency_matrix2)"
   ]
  },
  {
   "cell_type": "code",
   "execution_count": null,
   "id": "possible-agreement",
   "metadata": {},
   "outputs": [],
   "source": [
    "adjacency_matrix3, label3 = get_SBM_network(10, 5, 5, 0.05)\n",
    "result = network_visualization(adjacency_matrix3)"
   ]
  },
  {
   "cell_type": "code",
   "execution_count": null,
   "id": "going-ridge",
   "metadata": {},
   "outputs": [],
   "source": [
    "adjacency_matrix4, label4 = get_SBM_network(10, 5, 5, 0.005)\n",
    "result = network_visualization(adjacency_matrix4)"
   ]
  },
  {
   "cell_type": "markdown",
   "id": "confidential-curve",
   "metadata": {},
   "source": [
    "**1.1.4**. Repeat the steps above but this time visualize the network with nodes colored according to the ground truth communities"
   ]
  },
  {
   "cell_type": "code",
   "execution_count": null,
   "id": "cultural-chuck",
   "metadata": {},
   "outputs": [],
   "source": [
    "sbm_adj_label = []\n",
    "sbm_adj_label.append((adjacency_matrix2, label2))\n",
    "sbm_adj_label.append((adjacency_matrix3, label3))\n",
    "sbm_adj_label.append((adjacency_matrix4, label4))\n",
    "\n",
    "\n",
    "for adj, label in sbm_adj_label:\n",
    "    result = network_visualization(adj, community_assignment=label)"
   ]
  },
  {
   "cell_type": "markdown",
   "id": "north-charter",
   "metadata": {},
   "source": [
    "#### 1.2:  Communities on the MNIST handwritten digit dataset"
   ]
  },
  {
   "cell_type": "markdown",
   "id": "understood-participation",
   "metadata": {},
   "source": [
    "**1.2.1**. Generate a network of K-nearest neighbors of the MNIST handrwitten digits. \\\n",
    "Use the following parameters: KNN=50, images_per_digit=300"
   ]
  },
  {
   "cell_type": "code",
   "execution_count": null,
   "id": "altered-brunswick",
   "metadata": {},
   "outputs": [],
   "source": [
    "adjacency_matrix5, label5 = get_mnist_KNN_network(\"MNIST_data\", KNN=50, images_per_digit=300, seed=0)"
   ]
  },
  {
   "cell_type": "markdown",
   "id": "violent-wallace",
   "metadata": {},
   "source": [
    "**1.2.2**. Visualize the network using the function network_visualization()"
   ]
  },
  {
   "cell_type": "code",
   "execution_count": null,
   "id": "irish-watch",
   "metadata": {},
   "outputs": [],
   "source": [
    "result = network_visualization(adjacency_matrix5)"
   ]
  },
  {
   "cell_type": "markdown",
   "id": "incorporate-detector",
   "metadata": {},
   "source": [
    "**1.2.3**. Repeat 1.1.1 and 1.1.2 multiple times by changing the values of KNN and images_per_digit"
   ]
  },
  {
   "cell_type": "code",
   "execution_count": null,
   "id": "married-choice",
   "metadata": {},
   "outputs": [],
   "source": [
    "adjacency_matrix6, label6 = get_mnist_KNN_network(\"MNIST_data\", KNN=1, images_per_digit=300, seed=0)\n",
    "result = network_visualization(adjacency_matrix6)"
   ]
  },
  {
   "cell_type": "code",
   "execution_count": null,
   "id": "growing-macintosh",
   "metadata": {},
   "outputs": [],
   "source": [
    "adjacency_matrix7, label7 = get_mnist_KNN_network(\"MNIST_data\", KNN=10, images_per_digit=300, seed=0)\n",
    "result = network_visualization(adjacency_matrix7)"
   ]
  },
  {
   "cell_type": "code",
   "execution_count": null,
   "id": "speaking-favor",
   "metadata": {},
   "outputs": [],
   "source": [
    "adjacency_matrix8, label8 = get_mnist_KNN_network(\"MNIST_data\", KNN=30, images_per_digit=300, seed=0)\n",
    "result = network_visualization(adjacency_matrix8)"
   ]
  },
  {
   "cell_type": "markdown",
   "id": "straight-samuel",
   "metadata": {},
   "source": [
    "**1.2.4**. Repeat the steps above but this time visualize the network with nodes colored according to the ground truth communities"
   ]
  },
  {
   "cell_type": "code",
   "execution_count": null,
   "id": "italic-kansas",
   "metadata": {},
   "outputs": [],
   "source": [
    "mnist_adj_label = []\n",
    "mnist_adj_label.append((adjacency_matrix6, label6))\n",
    "mnist_adj_label.append((adjacency_matrix7, label7))\n",
    "mnist_adj_label.append((adjacency_matrix8, label8))\n",
    "\n",
    "\n",
    "for adj, label in sbm_adj_label:\n",
    "    result = network_visualization(adj, community_assignment=label)"
   ]
  },
  {
   "cell_type": "markdown",
   "id": "removable-earthquake",
   "metadata": {},
   "source": [
    "#### Questions  \n",
    "\n",
    "\n",
    "1. How the SBM Parameters affect community structure?\n",
    "\n",
    "2. How the number of nearest neighrbors (KNN) affect community structure?\n",
    "\n",
    "---- Without coloring the ground-truth communities ----\n",
    "\n",
    "3. For which regime of parameters we can visually identify communities in the SBM? (For example: when degree_in is X times larger than degree_out)\n",
    "\n",
    "4. For which regime of parameters we can visually identify communities in the MNIST?\n",
    "\n",
    "---- With colored ground truth communities -----\n",
    "\n",
    "5. For which regime of parameters the ground-truth communities of the SBM can be visually identified?\n",
    "\n",
    "6. For which regime of parameters the ground-truth communities of the MNIST can be visually identified?\n",
    "\n",
    "7. How does the number of nodes in the network affect the regime of parameters where we can visually identify communities? (For example: in one graph a value of KNN = 10 may work, but in a larger one this may not be the case)\n",
    " \n",
    "8. Is it true the hypothesis that images of one same digit in the MNIST dataset form a community?\n",
    "\n",
    "9. Discuss the advantages and limitations of the exploratory approach for community detection."
   ]
  },
  {
   "cell_type": "raw",
   "id": "alpha-sherman",
   "metadata": {},
   "source": [
    "1. The Stochastic Block Model have different parameters:\n",
    "    - nodes community that determines the average size of communities\n",
    "    - number of community that determines the number of community\n",
    "    - degree in that determines the average degree between nodes inside of communities\n",
    "    - degree out that determine the average degree between nodes of differents communitites\n",
    "   \n",
    "2.  The community structure density increase when the number of nearest neighbour increase.\n",
    "\n",
    "3.  When degree_in is 1000 times larger than degree_out, we can visually identify communities in the SBM\n",
    "\n",
    "4.  Whan the nearest neighbour number is around 10, we can visually define communities.\n",
    "\n",
    "5.  the ground-truth communities of the SBM can be visually identified with every regime of matters through the color representaiton of communities\n",
    "\n",
    "6.  the ground-truth communities of the MNIST can be visually identified with every regime of matters through the color representaiton of communities\n",
    "\n",
    "7.  When the number of nodes in the network is larger, the more difficult it is to identify visually communities\n",
    "\n",
    "8.  It is true the hypothesis that images of one same digit in the MNIST dataset form a community\n"
   ]
  },
  {
   "cell_type": "markdown",
   "id": "indie-stopping",
   "metadata": {},
   "source": [
    "### Exercise 2: Density-based community detection"
   ]
  },
  {
   "cell_type": "markdown",
   "id": "australian-parking",
   "metadata": {},
   "source": [
    "#### 2.1:  Binary community detection task "
   ]
  },
  {
   "cell_type": "markdown",
   "id": "creative-coupon",
   "metadata": {},
   "source": [
    "**2.1.1**. In separate file implement a function called **exact_community_detection()** that solves the density-based community detection task for two communities (Slide 9 of course). \n",
    "\n",
    "Reminder: we should split the set of vertices in two disjoint groups $V = S_1 \\cup S_2$ and count\n",
    "\n",
    "$$\\sum_{i = 1}^2 \\sum_{v \\in S_i} d(v)_{in} - d(v)_{out} $$\n",
    "\n",
    "The goal is to find the sets $S_1$ and $S_2$ that minimize this quantity. For this we need to test all possible sets $S_1$ and $S_2$, for which you should use the **powerset** function whose details are in the appendix.\n",
    "\n",
    "Your implementation of **exact_community_detection()** should receive a sparse adjacency matrix of the graph and should return a dictionary with the community assignment (keys are node IDs and values are the community assigned (1) or (2))"
   ]
  },
  {
   "cell_type": "markdown",
   "id": "british-columbia",
   "metadata": {},
   "source": [
    "**2.1.2**. Generate a SBM graph with 2 communities and use the function **exact_community_detection()** to detect the communities of this graph.\n",
    "\n",
    "For the SBM, use the following parameters: nodes_community=10, num_communities=2, degree_in = 5, degree_out = 0.5."
   ]
  },
  {
   "cell_type": "code",
   "execution_count": null,
   "id": "elder-insertion",
   "metadata": {},
   "outputs": [],
   "source": [
    "def degree_in(node, s , adjacency_matrix):\n",
    "    degree = 0\n",
    "    for neighbour in range(len(adjacency_matrix)):\n",
    "        if adjacency_matrix[node][neighbour] == 1: # if nodes linked\n",
    "            if neighbour in s:\n",
    "                degree += 1\n",
    "    return degree\n",
    "\n",
    "def degree_out(node, s, adjacency_matrix):\n",
    "    degree = 0\n",
    "    for neighbour in range(len(adjacency_matrix)):\n",
    "        if adjacency_matrix[node][neighbour] == 1: # if nodes linked\n",
    "            if neighbour not in s:\n",
    "                degree += 1\n",
    "    return degree          \n",
    "def exact_community_detection(adjacency_matrix):\n",
    "    '''\n",
    "    Solve the density based community detection task for two communities\n",
    "    '''\n",
    "    adjacency_matrix = adjacency_matrix.toarray().astype(int)\n",
    "    nodes = set([i for i in range(len(adjacency_matrix))])\n",
    "    all_sets = powerset(nodes)\n",
    "    min_quantity = None\n",
    "    set_min = None\n",
    "    nb_set_processed = 0\n",
    "    len_all_sets = len(all_sets)\n",
    "    for my_set in all_sets: # for all possible set1 and set2 compute the quantity\n",
    "        my_sum = 0 # init the sum\n",
    "        s = [my_set, nodes.difference(my_set)]\n",
    "        nb_set_processed += 1\n",
    "        #print(f\"\\r{round(nb_set_processed / len_all_sets * 200, 2)} %\", flush=True,end =\"\")\n",
    "        if tuple(s[1]) in all_sets:\n",
    "            all_sets.remove(tuple(s[1]))\n",
    "        # compute sum of degree in minus degree out\n",
    "        for i in range(2):\n",
    "            for node in s[i]:\n",
    "                my_sum += degree_in(node, s[i], adjacency_matrix) \n",
    "                my_sum -= degree_out(node, s[i], adjacency_matrix)\n",
    "        \n",
    "        \n",
    "        if min_quantity is None or my_sum < min_quantity :\n",
    "            min_quantity = my_sum\n",
    "            set_min = s\n",
    "    return set_min, min_quantity"
   ]
  },
  {
   "cell_type": "code",
   "execution_count": null,
   "id": "described-marketplace",
   "metadata": {},
   "outputs": [],
   "source": [
    "adjacency_matrix9, label9 = get_SBM_network(7, 2, 5, 0.5)\n",
    "communities9, _ = exact_community_detection(adjacency_matrix9)"
   ]
  },
  {
   "cell_type": "markdown",
   "id": "respected-power",
   "metadata": {},
   "source": [
    "**2.1.3**. Repeat 2.1.2 by increasing the value of *nodes_community*."
   ]
  },
  {
   "cell_type": "code",
   "execution_count": null,
   "id": "740f1186",
   "metadata": {},
   "outputs": [],
   "source": [
    "adjacency_matrix10, label10 = get_SBM_network(10, 2, 5, 0.5)\n",
    "communities10, _ = exact_community_detection(adjacency_matrix(10)"
   ]
  },
  {
   "cell_type": "markdown",
   "id": "engaged-registrar",
   "metadata": {},
   "source": [
    "**2.1.4**. Evaluate the output of the function exact_community_detection() visually."
   ]
  },
  {
   "cell_type": "code",
   "execution_count": null,
   "id": "2b585458",
   "metadata": {},
   "outputs": [],
   "source": [
    "community_assign = {}\n",
    "community_label = 0\n",
    "print(communities9)\n",
    "# Assign label to each node of each community to assign color for each community\n",
    "for community in communities9:\n",
    "    for node in community:\n",
    "        community_assign[node] = community_label\n",
    "    community_label += 1\n",
    "result = network_visualization(adjacency_matrix9, community_assignment=community_assign)\n"
   ]
  },
  {
   "cell_type": "markdown",
   "id": "informal-highlight",
   "metadata": {},
   "source": [
    "#### Questions \n",
    "\n",
    "1. Is the density-based community detection able to identify the ground truth communities?\n",
    "2. What is the time complexity of exact_community_detection()?"
   ]
  },
  {
   "cell_type": "markdown",
   "id": "dcde60d3",
   "metadata": {},
   "source": [
    "1. The density-based community detection is able to identify the ground truth communities. With the community detection function that we coded, on can only able to divide all nodes in two communities.\n",
    "2. The time complexity of exact_community detection is "
   ]
  },
  {
   "cell_type": "markdown",
   "id": "focal-broadcast",
   "metadata": {},
   "source": [
    "### Exercise 3: Label propagation algorithm\n",
    "\n",
    "Now that you have faced some of the limitations of the exploratory approach and the exact method, we relax the time complexity by means of the label propagation algorithm."
   ]
  },
  {
   "cell_type": "markdown",
   "id": "balanced-environment",
   "metadata": {},
   "source": [
    "#### 3.1: Implementation of Label propagation algorithm"
   ]
  },
  {
   "cell_type": "markdown",
   "id": "present-youth",
   "metadata": {},
   "source": [
    "**3.1.1**. In separate file implement the label propagation algorithm through a function called **label_propagation_communities()**. This function should receive the sparse adjacency matrix and it should return a dictionary with the community assignment (keys are node IDs and values are communities) "
   ]
  },
  {
   "cell_type": "code",
   "execution_count": null,
   "id": "brilliant-victor",
   "metadata": {},
   "outputs": [],
   "source": [
    "def convert_to_adjacency(adjacency_matrix, size):\n",
    "    col, row = adjacency_matrix.nonzero()\n",
    "    my_graph = {}\n",
    "    for i in range(size):\n",
    "        my_graph[i] = []\n",
    "    for i in range(len(col)):\n",
    "        my_graph[col[i]].append(row[i])\n",
    "    return my_graph\n",
    "\n",
    "def init_assignment(node_ids, community_assignment):\n",
    "    for node_id in node_ids:\n",
    "        community_assignment[node_id] = node_id\n",
    "def get_frequences_labels(neighbours, community_assignment):\n",
    "    frequencies_labels = {}\n",
    "    for neighbour in neighbours:\n",
    "        neighbour_label = community_assignment[neighbour]\n",
    "        if neighbour_label not in frequencies_labels:\n",
    "            frequencies_labels[neighbour_label] = 0\n",
    "        frequencies_labels[neighbour_label] += 1\n",
    "    return frequencies_labels\n",
    "        \n",
    "def label_propagation_communities(adjacency_matrix):\n",
    "    community_assignment = {}\n",
    "    size = len(adjacency_matrix.toarray())\n",
    "    node_ids = [node_id for node_id in range(size)]\n",
    "    my_graph = convert_to_adjacency(adjacency_matrix, size)\n",
    "    init_assignment(node_ids, community_assignment) # step 1\n",
    "    end = False\n",
    "    while not end:\n",
    "        shuffle(node_ids) # step 2\n",
    "        for node_id in node_ids: # step 3\n",
    "            neighbours = my_graph[node_id]\n",
    "            frequencies_labels = get_frequences_labels(neighbours, community_assignment)\n",
    "            if len(frequencies_labels) > 0:\n",
    "                \n",
    "                max_frequency_label = max(frequencies_labels, key=frequencies_labels.get)\n",
    "                community_assignment[node_id] = max_frequency_label\n",
    "        \n",
    "        # print(dumps(community_assignment, indent = 4))\n",
    "        for node_id in node_ids:\n",
    "            node_label = community_assignment[node_id]\n",
    "            neighbours = my_graph[node_id]\n",
    "            frequencies_labels = get_frequences_labels(neighbours, community_assignment)\n",
    "            if len(frequencies_labels) > 0:\n",
    "                max_frequency_label = max(frequencies_labels, key=frequencies_labels.get)\n",
    "                # print(node_label, max_frequency_label)\n",
    "                if node_label != max_frequency_label:\n",
    "                    end = False\n",
    "                    break\n",
    "                else:\n",
    "                    end = True\n",
    "        \n",
    "    return community_assignment"
   ]
  },
  {
   "cell_type": "markdown",
   "id": "effective-aside",
   "metadata": {},
   "source": [
    "**3.1.2**. Apply the algorithm multiple times on the SBM and MNIST networks for different values of their parameters."
   ]
  },
  {
   "cell_type": "code",
   "execution_count": null,
   "id": "b9823899",
   "metadata": {},
   "outputs": [],
   "source": [
    "adjacency_matrix11, label11 = get_SBM_network(20,5,5,0.05)\n",
    "lpa11 = label_propagation_communities(adjacency_matrix11)\n",
    "lpa11"
   ]
  },
  {
   "cell_type": "code",
   "execution_count": null,
   "id": "da34887f",
   "metadata": {},
   "outputs": [],
   "source": [
    "for adj, label in sbm_adj_label:\n",
    "    print(label_propagation_communities(adj))\n",
    "'''for adj, label in mnist_adj_label:\n",
    "    print(label_propagation_communities(adj))'''"
   ]
  },
  {
   "cell_type": "markdown",
   "id": "speaking-romance",
   "metadata": {},
   "source": [
    "#### 3.2: Evaluation of Label propagation algorithm"
   ]
  },
  {
   "cell_type": "markdown",
   "id": "dangerous-three",
   "metadata": {},
   "source": [
    "**3.2.1**. Evaluate the output of the label propagation algorithm visually"
   ]
  },
  {
   "cell_type": "code",
   "execution_count": null,
   "id": "84a507dc",
   "metadata": {},
   "outputs": [],
   "source": [
    "result = network_visualization(adjacency_matrix11, community_assignment=lpa11)"
   ]
  },
  {
   "cell_type": "markdown",
   "id": "general-serbia",
   "metadata": {},
   "source": [
    "**3.2.2**. Evaluate the output of the label propagation via the normalized mutual information score."
   ]
  },
  {
   "cell_type": "code",
   "execution_count": null,
   "id": "17939610",
   "metadata": {},
   "outputs": [],
   "source": [
    "my_nmi_score = nmi(adjacency_matrix11, ground_truth11, label)"
   ]
  },
  {
   "cell_type": "markdown",
   "id": "efficient-biodiversity",
   "metadata": {},
   "source": [
    "#### Questions  \n",
    "1. Explain why the output of the label propagation algorithm is different for each run.\n",
    "2. Discuss if the communities found change significantly for different runs. \n",
    "3. Discuss the advantages and limitations of the label propagation algorithm for community detection."
   ]
  },
  {
   "cell_type": "markdown",
   "id": "a5d41149",
   "metadata": {},
   "source": [
    "1. The ouput of the label propagation algorithm is different for each run because this algorithm use function that randomize the result. For instance the step 2 of the algorithm need to shuffle the node, this will change the sequence at which we will process each nodes. So this will give a different label at each run \n",
    "\n",
    "2. The communities found doesn't change significantly at each run. At each run, each communities contains the same node, the label of each may not be the same.\n"
   ]
  },
  {
   "cell_type": "markdown",
   "id": "loving-florist",
   "metadata": {},
   "source": [
    "### Exercise 4: Louvain algorithm\n",
    "\n",
    "From exercise 3 we learned that the simple label propagation algorithm can provide meaningful and scalable community detection, yet the algorithm still has several limitations. The goal of this excercise is to apply the Louvain algorithm and to evaluate the performance of community detection algorithms through modularity. "
   ]
  },
  {
   "cell_type": "markdown",
   "id": "comic-crash",
   "metadata": {},
   "source": [
    "#### 4.1: Evaluation of Louvain algorithm"
   ]
  },
  {
   "cell_type": "markdown",
   "id": "verbal-glance",
   "metadata": {},
   "source": [
    "**4.1.1**. Apply the algorithm multiple times on the SBM and MNIST networks for different values of their parameters."
   ]
  },
  {
   "cell_type": "code",
   "execution_count": null,
   "id": "1ba63f73",
   "metadata": {},
   "outputs": [],
   "source": [
    "for adj, label in sbm_adj_label:\n",
    "    print(louvain_communities(adj))"
   ]
  },
  {
   "cell_type": "markdown",
   "id": "baking-version",
   "metadata": {},
   "source": [
    "**4.1.2**. Evaluate the output of the Louvain algorithm visually and through the normalized mutual information score."
   ]
  },
  {
   "cell_type": "code",
   "execution_count": null,
   "id": "7e41502a",
   "metadata": {},
   "outputs": [],
   "source": [
    "for adj, label in sbm_adj_label:\n",
    "    network_visualization(adj, community_assignment=louvain_communities(adj))"
   ]
  },
  {
   "cell_type": "markdown",
   "id": "sorted-applicant",
   "metadata": {},
   "source": [
    "**4.1.3**. Measure the quality of the communities assgined by the Louvain algorithm and Label propagation algorithms. Compare these values with the modularity of the ground truth communities. "
   ]
  },
  {
   "cell_type": "markdown",
   "id": "furnished-symbol",
   "metadata": {},
   "source": [
    "#### Questions  \n",
    "1. Which algorithm finds better communities, the label propagation or the Louvain algorithm? \n",
    "2. Discuss the advantages and disadvantages of the modularity score over the normalized mutual information to assess the quality of an algorithm."
   ]
  },
  {
   "cell_type": "markdown",
   "id": "indian-notification",
   "metadata": {},
   "source": [
    "------------------------------"
   ]
  },
  {
   "cell_type": "markdown",
   "id": "better-sleeve",
   "metadata": {},
   "source": [
    "## Appendix"
   ]
  },
  {
   "cell_type": "markdown",
   "id": "banned-question",
   "metadata": {},
   "source": [
    "### Generating a stochastic block model network"
   ]
  },
  {
   "cell_type": "markdown",
   "id": "horizontal-soundtrack",
   "metadata": {},
   "source": [
    "**get_SBM_network(nodes_community, num_communities, deg_in, deg_out, seed=0)**\n",
    "\n",
    "Input:\n",
    "- nodes_community: Number of nodes per community\n",
    "- mum_communities: Number of communities\n",
    "- deg_in: Average degree of vertices towards its own community\n",
    "- deg_out: Average degree of vertices towards other communities\n",
    "- seed: Random seed for reproducibility\n",
    "\n",
    "Output:\n",
    "- Adj: Sparse adjacency matrix (Scipy sparse matrix)\n",
    "- ground_truth: Dictionary with ground truth communities ( ground_truth[ node_id ] = community )"
   ]
  },
  {
   "cell_type": "markdown",
   "id": "enclosed-crazy",
   "metadata": {},
   "source": [
    "### Generating a K-nearest neighbor graph from MNIST dataset"
   ]
  },
  {
   "cell_type": "markdown",
   "id": "domestic-poker",
   "metadata": {},
   "source": [
    "**get_mnist_KNN_network(mnist_path, KNN=15, images_per_digit=300, seed=0)**\n",
    "\n",
    "Input:\n",
    "- mnist_path: Path towards MNIST dataset\n",
    "- KNN: Nearest neighbors to branch\n",
    "- images_per_digit: Number of image samples per digit (nodes per community)\n",
    "- seed: Random seed for reproducibility\n",
    "\n",
    "Output:\n",
    "- Adj: Sparse adjacency matrix (Scipy sparse matrix)\n",
    "- ground_truth: Dictionary with ground truth communities ( ground_truth[ node_id ] = community )"
   ]
  },
  {
   "cell_type": "markdown",
   "id": "limited-crystal",
   "metadata": {},
   "source": [
    "### Visualizing a network"
   ]
  },
  {
   "cell_type": "markdown",
   "id": "tutorial-local",
   "metadata": {},
   "source": [
    "**network_visualization( Adj, zoom, layout (optional), community_assignment (optional) )**\n",
    "\n",
    "Input:\n",
    "- Adj: Network adjacency matrix (Scipy sparse matrix)\n",
    "- zoom: Visualization scale\n",
    "- layout (optional): coordinates to employ (if not provided a new one will be computed)\n",
    "- community_assignment (optional): Community assignment to color nodes according to their community (community_assignment[node_id] = community)\n",
    "\n",
    "Output:\n",
    "- layout: coordinates employed"
   ]
  },
  {
   "cell_type": "markdown",
   "id": "integrated-ministry",
   "metadata": {},
   "source": [
    "### Louvain Algorithm"
   ]
  },
  {
   "cell_type": "markdown",
   "id": "architectural-survey",
   "metadata": {},
   "source": [
    "**louvain_communities(Adj)**\n",
    "\n",
    "Input:\n",
    "- Adj: Network adjacency matrix\n",
    "\n",
    "Output:\n",
    "- Community_assignment: Output of Louvain algorithm (Dictionary[node_id] = community)"
   ]
  },
  {
   "cell_type": "markdown",
   "id": "behind-orbit",
   "metadata": {},
   "source": [
    "### Normalized Mutual Information"
   ]
  },
  {
   "cell_type": "markdown",
   "id": "fitted-perth",
   "metadata": {},
   "source": [
    "**nmi_score(Adj, ground_truth, community_assignment)**\n",
    "\n",
    "Input:\n",
    "- Adj: Network adjacency matrix (Scipy sparse matrix)\n",
    "- ground_truth: dictionary with ground_truth communities\n",
    "- community_assignment: dictionary with the community assignment to evaluate\n",
    "\n",
    "Output:\n",
    "- nmi: normalized mutual information score (0 means no correlation, 1 means perfect correlation)"
   ]
  },
  {
   "cell_type": "markdown",
   "id": "otherwise-raise",
   "metadata": {},
   "source": [
    "### Modularity"
   ]
  },
  {
   "cell_type": "markdown",
   "id": "laden-marker",
   "metadata": {},
   "source": [
    "**modularity_score(Adj, community_assignment)**\n",
    "\n",
    "Input:\n",
    "- Adj: Network adjacency matrix (Scipy sparse matrix)\n",
    "- community_assignment: dictionary with the community assignment to evaluate\n",
    "\n",
    "Output:\n",
    "- modularity: modularity score (-1 means no community structure, 1 means strong community structure)"
   ]
  },
  {
   "cell_type": "markdown",
   "id": "warming-genetics",
   "metadata": {},
   "source": [
    "### All subsets of a set\n",
    "**powerset(node_set)**\n",
    "\n",
    "Input:\n",
    "- node_set: Set with vertices of the network\n",
    "\n",
    "Output:\n",
    "- list_all_subsets: list with all subsets of node_set"
   ]
  }
 ],
 "metadata": {
  "kernelspec": {
   "display_name": "Python 3 (ipykernel)",
   "language": "python",
   "name": "python3"
  },
  "language_info": {
   "codemirror_mode": {
    "name": "ipython",
    "version": 3
   },
   "file_extension": ".py",
   "mimetype": "text/x-python",
   "name": "python",
   "nbconvert_exporter": "python",
   "pygments_lexer": "ipython3",
   "version": "3.8.8"
  }
 },
 "nbformat": 4,
 "nbformat_minor": 5
}
