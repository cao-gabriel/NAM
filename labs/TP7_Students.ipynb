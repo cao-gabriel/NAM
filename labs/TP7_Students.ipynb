{
 "cells": [
  {
   "cell_type": "markdown",
   "id": "ec434b5d",
   "metadata": {},
   "source": [
    "# TME: Community Detection\n",
    "\n",
    "### In this TME, you implement, apply and compare community detection algorithms."
   ]
  },
  {
   "cell_type": "code",
   "execution_count": null,
   "id": "independent-announcement",
   "metadata": {},
   "outputs": [],
   "source": []
  },
  {
   "cell_type": "markdown",
   "id": "0beca268",
   "metadata": {},
   "source": [
    "## Preparatory Instructions\n",
    "\n",
    "#### Packages\n",
    "Make sure, you have installed the following Packages:\n",
    "* pip install numpy\n",
    "* pip install scipy\n",
    "* pip install scikit-learn\n",
    "* pip install networkx\n",
    "* pip install python-mnist\n",
    "* pip install python-louvain\n",
    "* pip install matplitlib\n",
    "\n",
    "#### KNN - Graph\n",
    "Additionally, make sure to have the python file **utility_functions.py** provided by the teacher. All functions listed in the appendix are contained in this file.\n",
    "\n",
    "#### Data\n",
    "Lastly, make sure to have the MNIST dataset in your working directory"
   ]
  },
  {
   "cell_type": "markdown",
   "id": "a15dba0a",
   "metadata": {},
   "source": [
    "---------\n"
   ]
  },
  {
   "cell_type": "markdown",
   "id": "1647506d",
   "metadata": {},
   "source": [
    "## TME Instructions"
   ]
  },
  {
   "cell_type": "markdown",
   "id": "139692bf",
   "metadata": {},
   "source": [
    "### Exercise 1: Exploratory data analysis\n",
    "\n",
    "A common approach for data analysis is to look for patterns visually. This is also the case for community detection. \n",
    "\n",
    "Recall that a community is a group of vertices more densely connected between them than towards the rest the network. Therefore, it is common to try to see if there exists a community structure by visualizing the network and looking for groups of densely interconnected vertices. \n",
    "\n",
    "Naturally, if clusters can be identified visually, why to bother with community detection algorithms? The goal of this exercise is to explore the advantages and limitations of the exploratory approach for community detection and to motivate the need for automatic algorithms. "
   ]
  },
  {
   "cell_type": "markdown",
   "id": "690efc9c",
   "metadata": {},
   "source": [
    "#### 1.1:  Communities on the Stochastic Block Model"
   ]
  },
  {
   "cell_type": "markdown",
   "id": "f38d5869",
   "metadata": {},
   "source": [
    "**1.1.1**. Generate a network from the stochastic block model (SBM). \\\n",
    "Use the following parameters: nodes_community=200, num_communities=5, degree_in = 5, degree_out = 0.5."
   ]
  },
  {
   "cell_type": "markdown",
   "id": "dc27d2ad",
   "metadata": {},
   "source": [
    "**1.1.2**. Visualize the network using the function network_visualization()"
   ]
  },
  {
   "cell_type": "markdown",
   "id": "b026a515",
   "metadata": {},
   "source": [
    "**1.1.3**. Repeat 1.1.1 and 1.1.2 multiple times by changing the values of the SBM parameters"
   ]
  },
  {
   "cell_type": "markdown",
   "id": "e6c0c56f",
   "metadata": {},
   "source": [
    "**1.1.4**. Repeat the steps above but this time visualize the network with nodes colored according to the ground truth communities"
   ]
  },
  {
   "cell_type": "markdown",
   "id": "2263fabb",
   "metadata": {},
   "source": [
    "#### 1.2:  Communities on the MNIST handwritten digit dataset"
   ]
  },
  {
   "cell_type": "markdown",
   "id": "80cee03b",
   "metadata": {},
   "source": [
    "**1.2.1**. Generate a network of K-nearest neighbors of the MNIST handrwitten digits. \\\n",
    "Use the following parameters: KNN=50, images_per_digit=300"
   ]
  },
  {
   "cell_type": "markdown",
   "id": "074f5a9b",
   "metadata": {},
   "source": [
    "**1.2.2**. Visualize the network using the function network_visualization()"
   ]
  },
  {
   "cell_type": "markdown",
   "id": "b6eaa7e1",
   "metadata": {},
   "source": [
    "**1.2.3**. Repeat 1.1.1 and 1.1.2 multiple times by changing the values of KNN and images_per_digit"
   ]
  },
  {
   "cell_type": "markdown",
   "id": "61d64e2c",
   "metadata": {},
   "source": [
    "**1.2.4**. Repeat the steps above but this time visualize the network with nodes colored according to the ground truth communities"
   ]
  },
  {
   "cell_type": "markdown",
   "id": "10e03ba8",
   "metadata": {},
   "source": [
    "#### Questions  \n",
    "\n",
    "\n",
    "1. How the SBM Parameters affect community structure?\n",
    "\n",
    "2. How the number of nearest neighrbors (KNN) affect community structure?\n",
    "\n",
    "---- Without coloring the ground-truth communities ----\n",
    "\n",
    "3. For which regime of parameters we can visually identify communities in the SBM? (For example: when degree_in is X times larger than degree_out)\n",
    "\n",
    "4. For which regime of parameters we can visually identify communities in the SBM?\n",
    "\n",
    "---- With colored ground truth communities -----\n",
    "\n",
    "5. For which regime of parameters the ground-truth communities of the SBM can be visually identified?\n",
    "\n",
    "6. For which regime of parameters the ground-truth communities of the MNIST can be visually identified?\n",
    "\n",
    "7. How does the number of nodes in the network affect the regime of parameters where we can visually identify communities? (For example: in one graph a value of KNN = 10 may work, but in a larger one this may not be the case)\n",
    " \n",
    "8. Is it true the hypothesis that images of one same digit in the MNIST dataset form a community?\n",
    "\n",
    "9. Discuss the advantages and limitations of the exploratory approach for community detection."
   ]
  },
  {
   "cell_type": "markdown",
   "id": "21706200",
   "metadata": {},
   "source": [
    "### Exercise 2: Density-based community detection"
   ]
  },
  {
   "cell_type": "markdown",
   "id": "bc87edd0",
   "metadata": {},
   "source": [
    "#### 2.1:  Binary community detection task "
   ]
  },
  {
   "cell_type": "markdown",
   "id": "bd23cdea",
   "metadata": {},
   "source": [
    "**2.1.1**. In separate file implement a function called **exact_community_detection()** that solves the density-based community detection task for two communities (Slide 9 of course). \n",
    "\n",
    "Reminder: we should split the set of vertices in two disjoint groups $V = S_1 \\cup S_2$ and count\n",
    "\n",
    "$$\\sum_{i = 1}^2 \\sum_{v \\in S_i} d(v)_{in} - d(v)_{out} $$\n",
    "\n",
    "The goal is to find the sets $S_1$ and $S_2$ that minimize this quantity. For this we need to test all possible sets $S_1$ and $S_2$, for which you should use the **powerset** function whose details are in the appendix.\n",
    "\n",
    "Your implementation of **exact_community_detection()** should receive a sparse adjacency matrix of the graph and should return a dictionary with the community assignment (keys are node IDs and values are the community assigned (1) or (2))"
   ]
  },
  {
   "cell_type": "markdown",
   "id": "93aa3707",
   "metadata": {},
   "source": [
    "**2.1.2**. Generate a SBM graph with 2 communities and use the function **exact_community_detection()** to detect the communities of this graph.\n",
    "\n",
    "For the SBM, use the following parameters: nodes_community=10, num_communities=2, degree_in = 5, degree_out = 0.5."
   ]
  },
  {
   "cell_type": "markdown",
   "id": "8148e58b",
   "metadata": {},
   "source": [
    "**2.1.3**. Repeat 2.1.2 by increasing the value of *nodes_community*."
   ]
  },
  {
   "cell_type": "markdown",
   "id": "af7ad7ff",
   "metadata": {},
   "source": [
    "**2.1.4**. Evaluate the output of the function exact_community_detection() visually."
   ]
  },
  {
   "cell_type": "markdown",
   "id": "1a69de09",
   "metadata": {},
   "source": [
    "#### Questions \n",
    "\n",
    "1. Is the density-based community detection able to identify the ground truth communities?\n",
    "2. What is the time complexity of exact_community_detection()?"
   ]
  },
  {
   "cell_type": "markdown",
   "id": "0165dead",
   "metadata": {},
   "source": [
    "### Exercise 3: Label propagation algorithm\n",
    "\n",
    "Now that you have faced some of the limitations of the exploratory approach and the exact method, we relax the time complexity by means of the label propagation algorithm."
   ]
  },
  {
   "cell_type": "markdown",
   "id": "279db11f",
   "metadata": {},
   "source": [
    "#### 3.1: Implementation of Label propagation algorithm"
   ]
  },
  {
   "cell_type": "markdown",
   "id": "9c33954b",
   "metadata": {},
   "source": [
    "**3.1.1**. In separate file implement the label propagation algorithm through a function called **label_propagation_communities()**. This function should receive the sparse adjacency matrix and it should return a dictionary with the community assignment (keys are node IDs and values are communities) "
   ]
  },
  {
   "cell_type": "markdown",
   "id": "907dc7a6",
   "metadata": {},
   "source": [
    "**3.1.2**. Apply the algorithm multiple times on the SBM and MNIST networks for different values of their parameters."
   ]
  },
  {
   "cell_type": "markdown",
   "id": "874984b0",
   "metadata": {},
   "source": [
    "#### 3.2: Evaluation of Label propagation algorithm"
   ]
  },
  {
   "cell_type": "markdown",
   "id": "831ecc7e",
   "metadata": {},
   "source": [
    "**3.2.1**. Evaluate the output of the label propagation algorithm visually"
   ]
  },
  {
   "cell_type": "markdown",
   "id": "e0c02937",
   "metadata": {},
   "source": [
    "**3.2.2**. Evaluate the output of the label propagation via the normalized mutual information score."
   ]
  },
  {
   "cell_type": "markdown",
   "id": "b5f8add1",
   "metadata": {},
   "source": [
    "#### Questions  \n",
    "1. Exaplain why the output of the label propagation algorithm is different for each run.\n",
    "2. Discuss if the communities found change significantly for different runs. \n",
    "3. Discuss the advantages and limitations of the label propagation algorithm for community detection."
   ]
  },
  {
   "cell_type": "markdown",
   "id": "cdacafae",
   "metadata": {},
   "source": [
    "### Exercise 4: Louvain algorithm\n",
    "\n",
    "From exercise 3 we learned that the simple label propagation algorithm can provide meaningful and scalable community detection, yet the algorithm still has several limitations. The goal of this excercise is to apply the Louvain algorithm and to evaluate the performance of community detection algorithms through modularity. "
   ]
  },
  {
   "cell_type": "markdown",
   "id": "9d7675a3",
   "metadata": {},
   "source": [
    "#### 4.1: Evaluation of Louvain algorithm"
   ]
  },
  {
   "cell_type": "markdown",
   "id": "e354a3c2",
   "metadata": {},
   "source": [
    "**4.1.1**. Apply the algorithm multiple times on the SBM and MNIST networks for different values of their parameters."
   ]
  },
  {
   "cell_type": "markdown",
   "id": "a9c9a938",
   "metadata": {},
   "source": [
    "**4.1.2**. Evaluate the output of the Louvain algorithm visually and through the normalized mutual information score."
   ]
  },
  {
   "cell_type": "markdown",
   "id": "cc4f80f3",
   "metadata": {},
   "source": [
    "**4.1.3**. Measure the quality of the communities assgined by the Louvain algorithm and Label propagation algorithms. Compare these values with the modularity of the ground truth communities. "
   ]
  },
  {
   "cell_type": "markdown",
   "id": "cb7607ea",
   "metadata": {},
   "source": [
    "#### Questions  \n",
    "1. Which algorithm finds better communities, the label propagation or the Louvain algorithm? \n",
    "2. Discuss the advantages and disadvantages of the modularity score over the normalized mutual information to assess the quality of an algorithm."
   ]
  },
  {
   "cell_type": "markdown",
   "id": "3f2628b5",
   "metadata": {},
   "source": [
    "------------------------------"
   ]
  },
  {
   "cell_type": "markdown",
   "id": "6860235d",
   "metadata": {},
   "source": [
    "## Appendix"
   ]
  },
  {
   "cell_type": "markdown",
   "id": "5bb32f3c",
   "metadata": {},
   "source": [
    "### Generating a stochastic block model network"
   ]
  },
  {
   "cell_type": "markdown",
   "id": "dd1a6f4d",
   "metadata": {},
   "source": [
    "**get_SBM_network(nodes_community, num_communities, deg_in, deg_out, seed=0)**\n",
    "\n",
    "Input:\n",
    "- nodes_community: Number of nodes per community\n",
    "- mum_communities: Number of communities\n",
    "- deg_in: Average degree of vertices towards its own community\n",
    "- deg_out: Average degree of vertices towards other communities\n",
    "- seed: Random seed for reproducibility\n",
    "\n",
    "Output:\n",
    "- Adj: Sparse adjacency matrix (Scipy sparse matrix)\n",
    "- ground_truth: Dictionary with ground truth communities ( ground_truth[ node_id ] = community )"
   ]
  },
  {
   "cell_type": "markdown",
   "id": "04efa16f",
   "metadata": {},
   "source": [
    "### Generating a K-nearest neighbor graph from MNIST dataset"
   ]
  },
  {
   "cell_type": "markdown",
   "id": "fa1ea96d",
   "metadata": {},
   "source": [
    "**get_mnist_KNN_network(mnist_path, KNN=15, images_per_digit=300, seed=0)**\n",
    "\n",
    "Input:\n",
    "- mnist_path: Path towards MNIST dataset\n",
    "- KNN: Nearest neighbors to branch\n",
    "- images_per_digit: Number of image samples per digit (nodes per community)\n",
    "- seed: Random seed for reproducibility\n",
    "\n",
    "Output:\n",
    "- Adj: Sparse adjacency matrix (Scipy sparse matrix)\n",
    "- ground_truth: Dictionary with ground truth communities ( ground_truth[ node_id ] = community )"
   ]
  },
  {
   "cell_type": "markdown",
   "id": "2d224796",
   "metadata": {},
   "source": [
    "### Visualizing a network"
   ]
  },
  {
   "cell_type": "markdown",
   "id": "ac94e553",
   "metadata": {},
   "source": [
    "**network_visualization( Adj, zoom, layout (optional), community_assignment (optional) )**\n",
    "\n",
    "Input:\n",
    "- Adj: Network adjacency matrix (Scipy sparse matrix)\n",
    "- zoom: Visualization scale\n",
    "- layout (optional): coordinates to employ (if not provided a new one will be computed)\n",
    "- community_assignment (optional): Community assignment to color nodes according to their community (community_assignment[node_id] = community)\n",
    "\n",
    "Output:\n",
    "- layout: coordinates employed"
   ]
  },
  {
   "cell_type": "markdown",
   "id": "00eae71d",
   "metadata": {},
   "source": [
    "### Louvain Algorithm"
   ]
  },
  {
   "cell_type": "markdown",
   "id": "0e676063",
   "metadata": {},
   "source": [
    "**louvain_communities(Adj)**\n",
    "\n",
    "Input:\n",
    "- Adj: Network adjacency matrix\n",
    "\n",
    "Output:\n",
    "- Community_assignment: Output of Louvain algorithm (Dictionary[node_id] = community)"
   ]
  },
  {
   "cell_type": "markdown",
   "id": "5b9bc150",
   "metadata": {},
   "source": [
    "### Normalized Mutual Information"
   ]
  },
  {
   "cell_type": "markdown",
   "id": "62bbcbe0",
   "metadata": {},
   "source": [
    "**nmi_score(Adj, ground_truth, community_assignment)**\n",
    "\n",
    "Input:\n",
    "- Adj: Network adjacency matrix (Scipy sparse matrix)\n",
    "- ground_truth: dictionary with ground_truth communities\n",
    "- community_assignment: dictionary with the community assignment to evaluate\n",
    "\n",
    "Output:\n",
    "- nmi: normalized mutual information score (0 means no correlation, 1 means perfect correlation)"
   ]
  },
  {
   "cell_type": "markdown",
   "id": "47f54c3a",
   "metadata": {},
   "source": [
    "### Modularity"
   ]
  },
  {
   "cell_type": "markdown",
   "id": "1a14d581",
   "metadata": {},
   "source": [
    "**modularity_score(Adj, community_assignment)**\n",
    "\n",
    "Input:\n",
    "- Adj: Network adjacency matrix (Scipy sparse matrix)\n",
    "- community_assignment: dictionary with the community assignment to evaluate\n",
    "\n",
    "Output:\n",
    "- modularity: modularity score (-1 means no community structure, 1 means strong community structure)"
   ]
  },
  {
   "cell_type": "markdown",
   "id": "8497718c",
   "metadata": {},
   "source": [
    "### All subsets of a set\n",
    "**powerset(node_set)**\n",
    "\n",
    "Input:\n",
    "- node_set: Set with vertices of the network\n",
    "\n",
    "Output:\n",
    "- list_all_subsets: list with all subsets of node_set"
   ]
  }
 ],
 "metadata": {
  "kernelspec": {
   "display_name": "Python 3",
   "language": "python",
   "name": "python3"
  },
  "language_info": {
   "codemirror_mode": {
    "name": "ipython",
    "version": 3
   },
   "file_extension": ".py",
   "mimetype": "text/x-python",
   "name": "python",
   "nbconvert_exporter": "python",
   "pygments_lexer": "ipython3",
   "version": "3.7.3"
  }
 },
 "nbformat": 4,
 "nbformat_minor": 5
}
