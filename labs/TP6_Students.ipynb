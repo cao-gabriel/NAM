{
 "cells": [
  {
   "cell_type": "markdown",
   "metadata": {},
   "source": [
    "# Lab6 (Teacher version): configuration model\n",
    "\n",
    "We can use the following libraries."
   ]
  },
  {
   "cell_type": "code",
   "execution_count": 1,
   "metadata": {},
   "outputs": [
    {
     "name": "stdout",
     "output_type": "stream",
     "text": [
      "3.8.8 (default, Apr 13 2021, 19:58:26) \n",
      "[GCC 7.3.0]\n"
     ]
    }
   ],
   "source": [
    "import matplotlib.pyplot as plt\n",
    "import math\n",
    "import sys\n",
    "import random\n",
    "import time\n",
    "import copy\n",
    "print(sys.version)"
   ]
  },
  {
   "cell_type": "markdown",
   "metadata": {},
   "source": [
    "## Exercise 0: preliminaries "
   ]
  },
  {
   "cell_type": "markdown",
   "metadata": {},
   "source": [
    "In this prectical work, we use the graph http://lioneltabourier.fr/documents/inet.txt. It is an undirected map of a subpart of the Internet.\n",
    "\n",
    "Load it in memory as a dictionary of lists (as usual) and make the standard measurements:\n",
    "* compute its number of nodes and edges\n",
    "* plot its degree distribution\n",
    "* compute its number of triangles\n",
    "* compute a lower bound for its diameter\n",
    "\n",
    "We indicate here the number of nodes, links and triangles of this network:\n",
    "* 9740 nodes \n",
    "* 35567 edges\n",
    "* 206909 triangles"
   ]
  },
  {
   "cell_type": "code",
   "execution_count": 2,
   "metadata": {},
   "outputs": [],
   "source": [
    "def node_link(file_name):\n",
    "    '''\n",
    "    node_link(file_name)\n",
    "    \n",
    "    Returns the number of edges and the number of nodes in the graph stored in 'file_name'\n",
    "        Parameters:\n",
    "            file_name(string) : the name of the file storing the graph\n",
    "        Returns:\n",
    "            node_count, link_count (int, int) : a tuple containing the number of nodes and the number of links in \n",
    "            the graph\n",
    "    '''\n",
    "    node_set = set()\n",
    "    node_count = 0\n",
    "    link_count = 0\n",
    "    with open(file_name, \"r\") as my_file:\n",
    "        for line in my_file:\n",
    "            if line[0] != \"#\": # supposing that comments start with a '#' symbol\n",
    "                line = line.split() # supposing a space between two nodes\n",
    "                node1 = int(line[0]) # supposing that nodes are numbers formated in file\n",
    "                node2 = int(line[1])\n",
    "                link_count += 1 # if a same link appears several times, it will be counted as many times\n",
    "                if node1 not in node_set:\n",
    "                    node_set.add(node1)\n",
    "                    node_count += 1\n",
    "                if node2 not in node_set:\n",
    "                    node_set.add(node2)\n",
    "                    node_count +=1  \n",
    "    return node_count, link_count"
   ]
  },
  {
   "cell_type": "code",
   "execution_count": 3,
   "metadata": {},
   "outputs": [],
   "source": [
    "def load_clean_graph(input_name, output_name = None):\n",
    "    '''\n",
    "    load_clean_graph(input_name, output_name = None)\n",
    "    \n",
    "    Delete self-loops and duplicated edges existing in the graph and writes it in a new test file\"\n",
    "        Parameters:\n",
    "            input_name (string) : name of the file storing the graph with self loops and duplicated edges\n",
    "            output_name (string) (optional) : name of the file that will store the graph without self \n",
    "            loops and duplicated edges. If no output is defined the new graph will not be stored in a file\n",
    "        Returns:\n",
    "            my_graph (dictionary of lists) : the graph without self loops and duplicated edges\n",
    "    '''\n",
    "    my_graph = {}\n",
    "    if output_name is not None:\n",
    "        output_file = open(output_name, \"w\")\n",
    "    with open(input_name, \"r\") as input_file:\n",
    "        for line in input_file:\n",
    "\n",
    "            if line[0] != \"#\":\n",
    "                line = line.split()\n",
    "                node1 = int(line[0])\n",
    "                node2 = int(line[1])\n",
    "                if node1 != node2:\n",
    "                    if node1 in my_graph:\n",
    "                        if node2 not in my_graph[node1]:\n",
    "                            my_graph[node1].append(node2)\n",
    "                            if output_name is not None:\n",
    "                                output_file.write(f\"{node1} {node2}\\n\")\n",
    "                    else:\n",
    "                        my_graph[node1] = [node2]\n",
    "                    if node2 in my_graph:\n",
    "                        if node1 not in my_graph[node2]:\n",
    "                            my_graph[node2].append(node1)\n",
    "                            if output_name is not None:\n",
    "                                output_file.write(f\"{node2} {node1}\\n\")\n",
    "                    else:\n",
    "                        my_graph[node2] = [node1]\n",
    "    if output_name is not None:\n",
    "        output_file.close()\n",
    "    return my_graph\n",
    "    "
   ]
  },
  {
   "cell_type": "code",
   "execution_count": 4,
   "metadata": {},
   "outputs": [],
   "source": [
    "def degree_dist(my_graph):\n",
    "    '''\n",
    "    degree_dist(my_graph)\n",
    "    \n",
    "    Computes the degree distribution of a graph\n",
    "        Parameters:\n",
    "            my_graph (dictionary of lists)\n",
    "        Returns:\n",
    "            my_degree_dist (dictionary) : a dictionary wich key are the degrees that appear in the graph and \n",
    "            the values are the number of occurences\n",
    "    '''\n",
    "    my_degree_dist = {}\n",
    "    for node in my_graph:\n",
    "        node_degree = len(my_graph[node])\n",
    "        if node_degree in my_degree_dist:\n",
    "            my_degree_dist[node_degree] += 1\n",
    "        else:\n",
    "            my_degree_dist[node_degree] = 1\n",
    "    return my_degree_dist"
   ]
  },
  {
   "cell_type": "code",
   "execution_count": 5,
   "metadata": {},
   "outputs": [],
   "source": [
    "def plot_degree_dist(my_graph, log = True, limits = (0.5, 10000, 0.5, 10000), my_label = \"Label\"):\n",
    "    '''\n",
    "    plot_degree_dist(my_graph)\n",
    "    \n",
    "    Plot the degree distribution in log scale\n",
    "        Parameters:\n",
    "            my_graph (dictionary of lists)\n",
    "            log (boolean) (default = True): Plotting the graph with a axis in log scale\n",
    "            limits (int, int, int, int) (default = (0.5,10000,0.5,10000)) : the limits of the plot with the following format (xmin, xmax, ymin, ymax)\n",
    "        Returns\n",
    "    '''\n",
    "    my_degree_dist = degree_dist(my_graph)\n",
    "    xmin, xmax, ymin, ymax = limits\n",
    "    if log:\n",
    "        plt.xscale('log')\n",
    "        plt.yscale('log')\n",
    "        plt.xlim([xmin, xmax])\n",
    "        plt.ylim([ymin, ymax])\n",
    "    \n",
    "    plt.scatter(my_degree_dist.keys(), my_degree_dist.values(), label = my_label)\n",
    "    plt.legend()"
   ]
  },
  {
   "cell_type": "code",
   "execution_count": 6,
   "metadata": {},
   "outputs": [],
   "source": [
    "def bfs(my_graph):\n",
    "    '''\n",
    "    bfs(my_graph)\n",
    "    \n",
    "    Evaluate the size of the largest connect component of the graph 'my_graph' by going through all nodes of the \n",
    "    graph and identifying the connected component that contains the node\n",
    "        Parameters:\n",
    "            my_graph (dictionary of lists)\n",
    "        Returns:\n",
    "            my_lcc : the size of the largest connected component of 'my_graph'\n",
    "    '''\n",
    "    my_cc = {}\n",
    "    cc_index = 0\n",
    "    for source in my_graph.keys():\n",
    "        if source not in my_cc:\n",
    "            my_queue = [source]\n",
    "            marked_node = [source]\n",
    "            while my_queue:\n",
    "                node1 = my_queue.pop(0)\n",
    "                my_cc[node1] = cc_index\n",
    "                for node2 in my_graph[node1]:\n",
    "                    if node2 not in marked_node:\n",
    "                        my_queue.append(node2)\n",
    "                        marked_node.append(node2)\n",
    "            cc_index += 1\n",
    "    \n",
    "    cc_sizes = {}\n",
    "    for node in my_cc:\n",
    "        cc_index = my_cc[node]\n",
    "        if cc_index in cc_sizes:\n",
    "            cc_sizes[cc_index] += 1\n",
    "        else:\n",
    "            cc_sizes[cc_index] = 1\n",
    "    return max(list(cc_sizes.values()))\n",
    "    "
   ]
  },
  {
   "cell_type": "code",
   "execution_count": 7,
   "metadata": {},
   "outputs": [],
   "source": [
    "def distances(my_graph, source_node):\n",
    "    '''\n",
    "    distances(my_graph, source_node)\n",
    "    \n",
    "    Returns the distances of each node to the source node as a dictionary\n",
    "        Parameters:\n",
    "            my_graph (dictionary of lists)\n",
    "            source_node (int) : the node from which we will compute the distances\n",
    "        Returns:\n",
    "            my_distances : A dictionary which keys are the nodes and the values are the distances from the \n",
    "            key to 'source_node'\n",
    "    '''\n",
    "    my_queue = [source_node]\n",
    "    my_distances = {}\n",
    "    for node in my_graph:\n",
    "        my_distances[node] = -1\n",
    "    my_distances[source_node] = 0\n",
    "    while my_queue:\n",
    "        node1 = my_queue.pop(0)\n",
    "        for node2 in my_graph[node1]:\n",
    "            if my_distances[node2] == -1:\n",
    "                my_queue.append(node2)\n",
    "                my_distances[node2] = my_distances[node1] + 1\n",
    "    return my_distances\n",
    "\n",
    "def diameter(my_graph, sample_size):\n",
    "    '''\n",
    "    diameter(my_graph, sample_size)\n",
    "    \n",
    "    Compute an approximate diameter of the  graph 'my_graph' by running a bfs algorithm on a sample of nodes \n",
    "    and taking the max of the distances\n",
    "        Parameters:\n",
    "            my_graph (dictionary of lists)\n",
    "            sample_size (int) : the number of nodes in the graph that will be used to find the diameter\n",
    "        Returns:\n",
    "            my_diameter (int) : the approximate maximum distance in the graph\n",
    "    '''\n",
    "    my_diameter = -1\n",
    "    nodes = list(my_graph.keys())\n",
    "    for i in range(sample_size):\n",
    "        my_distances = distances(my_graph, nodes.pop(random.randint(0,len(nodes) - 1)))\n",
    "        my_diameter = max(my_diameter, max(list(my_distances.values())))\n",
    "    return my_diameter"
   ]
  },
  {
   "cell_type": "code",
   "execution_count": 8,
   "metadata": {},
   "outputs": [],
   "source": [
    "def triangle(my_graph):\n",
    "    '''\n",
    "    triangle(my_graph)\n",
    "    \n",
    "    Returns the number of triangles in the graph 'my_graph'\n",
    "        Parameters:\n",
    "            my_graph (dictionary of lists)\n",
    "        Returns:\n",
    "            triangle_count (int) : the number of triangles in the graph\n",
    "    '''\n",
    "    triangle_count = 0\n",
    "    for node1 in my_graph:\n",
    "        for node2 in my_graph[node1]:\n",
    "            if node1 < node2:\n",
    "                for node3 in my_graph[node1]:\n",
    "                    if node3 in my_graph[node2]: # node3 in N(node1) and N(node2)\n",
    "                        if node2 < node3:\n",
    "                            triangle_count += 1\n",
    "    return triangle_count"
   ]
  },
  {
   "cell_type": "code",
   "execution_count": 9,
   "metadata": {},
   "outputs": [],
   "source": [
    "def delete_node(my_graph, nodes):\n",
    "    '''\n",
    "    delete_node(my_graph, nodes)\n",
    "    \n",
    "    Deletes the nodes 'nodes' from the graph 'my_graph'\n",
    "        Parameters:\n",
    "            my_graph (dictionary of lists)\n",
    "            nodes (list) : list of nodes to be deleted\n",
    "        Return:\n",
    "        \n",
    "    '''\n",
    "    for node1 in nodes:\n",
    "        for node2 in my_graph[node1]:\n",
    "            my_graph[node2].remove(node1)\n",
    "            #TODO catch exception if remove fail\n",
    "        my_graph.pop(node1, None)\n",
    "        #TODO raise exception if pop fail => return None\n",
    "def random_failure(my_graph, limit, step):\n",
    "    '''\n",
    "    random_failure(my_graph, limit, step)\n",
    "    \n",
    "    Return the evolution of the largest connected component size according to the number of nodes that are \n",
    "    deleted from the graph randomly with at most 'limit' nodes deleted with a step of 'step'\n",
    "        Parameters:\n",
    "            my_graph (dictionary of lists)\n",
    "            limit (int) : the total number of nodes that will be deleted\n",
    "            step (int) : number of nodes to be deleted at each step\n",
    "        Returns\n",
    "            my_data (dictionary) : dictionary which key are the numbers of nodes removed and the value the\n",
    "            size of the largest connected component when the corresponding number of nodes have been deleted \n",
    "            from the graph\n",
    "    \n",
    "    '''\n",
    "    my_data = {}\n",
    "    nodes_left = list(my_graph.keys())\n",
    "    for key in range(step, limit, step):\n",
    "        # generation of the nodes to be deleted from the graph\n",
    "        to_delete = []\n",
    "        for i in range(step):\n",
    "            to_delete.append(nodes_left.pop(random.randint(0, len(nodes_left) - 1)))\n",
    "        delete_node(my_graph, to_delete)\n",
    "        my_data[key] = bfs(my_graph)\n",
    "    return my_data\n",
    "    "
   ]
  },
  {
   "cell_type": "code",
   "execution_count": 18,
   "metadata": {},
   "outputs": [
    {
     "name": "stdout",
     "output_type": "stream",
     "text": [
      "Number of nodes 9740\n",
      "Number of links 35567\n",
      "Number of triangles 206909\n",
      "Diameter 33\n"
     ]
    },
    {
     "data": {
      "image/png": "[encoded data removed]",
      "text/plain": [
       "<Figure size 432x288 with 1 Axes>"
      ]
     },
     "metadata": {
      "needs_background": "light"
     },
     "output_type": "display_data"
    }
   ],
   "source": [
    "inet = \"graphs/inet.txt\"\n",
    "nodes, links = node_link(inet)\n",
    "print(f\"Number of nodes {nodes}\")\n",
    "print(f\"Number of links {links}\")\n",
    "inet_graph = load_clean_graph(inet)\n",
    "triangles = triangle(inet_graph)\n",
    "print(f\"Number of triangles {triangles}\")\n",
    "print(f\"Diameter {diameter(inet_graph, 100)}\")\n",
    "\n",
    "plot_degree_dist(inet_graph, my_label = \"Inet\")"
   ]
  },
  {
   "cell_type": "markdown",
   "metadata": {},
   "source": [
    "## Exercice 1: generation"
   ]
  },
  {
   "cell_type": "markdown",
   "metadata": {},
   "source": [
    "### Question 1\n",
    "\n",
    "Create a Configuration Model of the graph with the same degree sequence as the original graph.\n",
    "\n",
    "Unfortunately, the version \"with rejection\" runs too slowly to be used here, so implement the version \"with loops and multi-edges deletion\" seen in the course."
   ]
  },
  {
   "cell_type": "code",
   "execution_count": 12,
   "metadata": {},
   "outputs": [],
   "source": [
    "def add_link(my_link, my_graph):\n",
    "    '''\n",
    "    add_link((node1, node2), my_graph)\n",
    "    \n",
    "    Add the link ('node1', 'node2') in the graph 'my_graph'\n",
    "        Parameters:\n",
    "            (node1, node2) (int, int) : the link  that will be added\n",
    "            my_graph (dictionary of lists) : the graph that will contain the link\n",
    "        Returns:    \n",
    "    '''\n",
    "    node1, node2 = my_link\n",
    "    if node1 in my_graph:\n",
    "        my_graph[node1].append(node2)\n",
    "    else:\n",
    "        my_graph[node1] = [node2]\n",
    "    if node2 in my_graph:\n",
    "        my_graph[node2].append(node1)\n",
    "    else:\n",
    "        my_graph[node2] = [node1]\n",
    "    return\n",
    "\n",
    "def build_table(original_graph):\n",
    "    '''\n",
    "    Build a table where the node i of the orignal graph where the number\n",
    "    of occurence of the node i in the table is equal to the degree of the node\n",
    "        Parameters:\n",
    "            original_graph (dictionary of lists)\n",
    "        Returns:\n",
    "            my_table (list) : the table that represents the original graph\n",
    "    '''\n",
    "    my_table = []\n",
    "    for node in original_graph:\n",
    "        degree_node = len(original_graph[node])\n",
    "        for i in range(degree_node):\n",
    "            my_table.append(node)\n",
    "    return my_table\n",
    "def config_model(original_graph):\n",
    "    '''\n",
    "    Creates a configuration model of the graph 'original_graph' with the same degree sequence as the original graph\n",
    "        Parameters:\n",
    "            original_graph (dictionary of lists) : the original graph\n",
    "        Returns:\n",
    "            new_graph (dictionary of lists) : the configuration model of the original graph\n",
    "    '''\n",
    "    my_table = build_table(original_graph)\n",
    "    i = len(my_table)\n",
    "    new_graph = {}\n",
    "    while i > 0:\n",
    "        u = random.randint(0, i - 1)\n",
    "        my_table[u], my_table[i - 1] = my_table[i - 1], my_table[u]\n",
    "        v = random.randint(0, i - 2)\n",
    "        my_table[v], my_table[i - 2] = my_table[i - 2], my_table[v]\n",
    "        \n",
    "        node1, node2 = my_table[i - 1], my_table[i - 2]\n",
    "        loop = node1 == node2\n",
    "        multi = node2 in new_graph and node1 in new_graph[node2]\n",
    "        if not loop and not multi:\n",
    "            add_link((node1, node2), new_graph)\n",
    "        my_table.pop(i - 1)\n",
    "        my_table.pop(i - 2)\n",
    "        i = i - 2\n",
    "    return new_graph\n",
    "        \n",
    "    \n",
    "    "
   ]
  },
  {
   "cell_type": "code",
   "execution_count": 13,
   "metadata": {},
   "outputs": [
    {
     "name": "stdout",
     "output_type": "stream",
     "text": [
      "Configuration Model of Inet Graph\n",
      "\tNodes 9740\n",
      "\tLinks 35448\n"
     ]
    }
   ],
   "source": [
    "my_model = config_model(load_clean_graph(inet))\n",
    "links = 0\n",
    "for node in my_model:\n",
    "    links += len(my_model[node])\n",
    "links = links // 2\n",
    "nodes = len(my_model)\n",
    "print(\"Configuration Model of Inet Graph\")\n",
    "print(f\"\\tNodes {nodes}\")\n",
    "print(f\"\\tLinks {links}\")\n"
   ]
  },
  {
   "cell_type": "markdown",
   "metadata": {},
   "source": [
    "### Question 2\n",
    "\n",
    "* Compare the initial degree distribution to the configuration model degree distribution. To do so, compute the fraction of nodes which degree is different to the orginal distribution: $ \\frac{n_{mod}}{n} $.\n",
    "* Compare the number of triangles of the configuration model to the one of the original graph, explain in one sentence what you have observed and if it is consistent with what you expected."
   ]
  },
  {
   "cell_type": "code",
   "execution_count": 14,
   "metadata": {},
   "outputs": [],
   "source": [
    "def degree_modified(original_graph, config_graph):\n",
    "    '''\n",
    "    Compute the fraction of nodes which degree is different to the \n",
    "    original distribution\n",
    "        Parameters:\n",
    "            original_graph (dictionary of lists)\n",
    "            config_graph (dictionary of lists)\n",
    "        \n",
    "        Returns:\n",
    "            ratio (int) : the fraction of nodes which degree is different to the\n",
    "            original distribution\n",
    "    '''\n",
    "    node_modified = 0\n",
    "    for node in config_graph:\n",
    "        degree_node_config = len(config_graph[node])\n",
    "        degree_node_origin = len(original_graph[node])\n",
    "        if degree_node_config != degree_node_origin:\n",
    "            node_modified += 1\n",
    "    return node_modified / len(original_graph)\n"
   ]
  },
  {
   "cell_type": "code",
   "execution_count": 19,
   "metadata": {},
   "outputs": [
    {
     "name": "stdout",
     "output_type": "stream",
     "text": [
      "Ratio of degree modified nodes 0.01940451745379877\n"
     ]
    },
    {
     "data": {
      "image/png": "[encoded data removed]",
      "text/plain": [
       "<Figure size 432x288 with 1 Axes>"
      ]
     },
     "metadata": {
      "needs_background": "light"
     },
     "output_type": "display_data"
    }
   ],
   "source": [
    "inet_graph = load_clean_graph(inet)\n",
    "my_model = config_model(inet_graph)\n",
    "ratio = degree_modified(inet_graph, my_model)\n",
    "print(f\"Ratio of degree modified nodes {ratio}\")\n",
    "plot_degree_dist(inet_graph, my_label=\"Inet\")\n",
    "plot_degree_dist(my_model, my_label=\"Model Configuration\")"
   ]
  },
  {
   "cell_type": "raw",
   "metadata": {},
   "source": [
    "Seulement 2% des noeuds du nouveau graphe possèdent un degré différent de l'original. Cela correspond bien à nos prédictions au vu de la suppression d'un lien dès lors qu'il y a existence d'une boucle ou d'un multi-liens."
   ]
  },
  {
   "cell_type": "code",
   "execution_count": 23,
   "metadata": {},
   "outputs": [
    {
     "name": "stdout",
     "output_type": "stream",
     "text": [
      "Inet\n",
      "\tTriangle 206909\n",
      "Configuration Model for Inet\n",
      "\tTriangle 1276\n"
     ]
    }
   ],
   "source": [
    "inet_graph = load_clean_graph(inet)\n",
    "my_model = config_model(inet_graph)\n",
    "model_triangle = triangle(my_model)\n",
    "inet_triangle = triangle(inet_graph)\n",
    "print(\"Inet\")\n",
    "print(f\"\\tTriangle {inet_triangle}\")\n",
    "print(\"Configuration Model for Inet\")\n",
    "print(f\"\\tTriangle {model_triangle}\")"
   ]
  },
  {
   "cell_type": "raw",
   "metadata": {},
   "source": [
    "Le nouveau graphe ne comporte plus qu'à peine 1% du nombre de triangle du graphe original. Nous pouvons confirmer que le modèle de configuration possède un failble coefficient de clustering."
   ]
  },
  {
   "cell_type": "markdown",
   "metadata": {},
   "source": [
    "## Exercise 2: robustness analysis"
   ]
  },
  {
   "cell_type": "markdown",
   "metadata": {},
   "source": [
    "### Question 3\n",
    "\n",
    "In this question, we want to explore if the original network is more or less robust to attacks than the corresponding configuration model is. \n",
    "\n",
    "For this purpose, we follow the same protocol as the one we have seen in PW3: we plot the size of the LCC as a function of a number of nodes removed. Nodes are removed randomly.\n",
    "\n",
    "Discuss your observations in a few sentences, in particular do you think that the degree distribution alone can explain the robustness to random failures?"
   ]
  },
  {
   "cell_type": "code",
   "execution_count": 25,
   "metadata": {},
   "outputs": [],
   "source": [
    "inet_graph = load_clean_graph(inet)\n",
    "my_model = config_model(inet_graph)"
   ]
  },
  {
   "cell_type": "code",
   "execution_count": 26,
   "metadata": {},
   "outputs": [],
   "source": [
    "model_dic_lcc = random_failure(my_model, 9000, 50)"
   ]
  },
  {
   "cell_type": "code",
   "execution_count": 27,
   "metadata": {},
   "outputs": [],
   "source": [
    "inet_dic_lcc = random_failure(inet_graph, 9000, 50)"
   ]
  },
  {
   "cell_type": "code",
   "execution_count": 28,
   "metadata": {},
   "outputs": [
    {
     "data": {
      "text/plain": [
       "<matplotlib.legend.Legend at 0x7fbc4a95c190>"
      ]
     },
     "execution_count": 28,
     "metadata": {},
     "output_type": "execute_result"
    },
    {
     "data": {
      "image/png": "[encoded data removed]",
      "text/plain": [
       "<Figure size 432x288 with 1 Axes>"
      ]
     },
     "metadata": {
      "needs_background": "light"
     },
     "output_type": "display_data"
    }
   ],
   "source": [
    "plt.plot(inet_dic_lcc.keys(), inet_dic_lcc.values(), label = \"inet\")\n",
    "plt.plot(model_dic_lcc.keys(), model_dic_lcc.values(), label = \"Config model\")\n",
    "plt.legend()"
   ]
  },
  {
   "cell_type": "raw",
   "metadata": {},
   "source": [
    "La courbe représentant l'évolution du nombre de noeuds qui compose la plus grande composante connexce du graphe provenant du modèle de configuration décroit linéairement. Tout d'abord la courbe du graphe Inet est en permanence en dessous de l'autre graphe, signifiant un coeur de réseau beaucoup plus petit, et on peut observer une baisse exponentielle du coeur du réseau dans le graphe Inet contrairement à l'autre graphe montrant le manque de robustesse du graphe Inet par rapport au graphe provenant du modèle de configuration."
   ]
  },
  {
   "cell_type": "markdown",
   "metadata": {},
   "source": [
    "## Exercise 3: basic spreading experiment\n",
    "\n",
    "In this exercise, we implement a basic SI model on the real network and compare it to the same spreading model on the synthetic graph obtained with the Configuration Model.\n",
    "\n",
    "In a SI model, a node is either Susceptible (S) or Infected (I) and an Infected node cannot go back to the Susceptible status."
   ]
  },
  {
   "cell_type": "markdown",
   "metadata": {},
   "source": [
    "### Question 4\n",
    "\n",
    "Choose a node which is in the largest connected component (LCC) for both the real graph and the synthetic one. It i named the $seed$ of the infection: it is the only infected node at step = 0.\n",
    "\n",
    "Then, run the following model: \n",
    "- at each step, all infected nodes try to infect all their susceptible neighbors in the graph with a probability $p$ (the same for every node).\n",
    "- the process stops when every node in the LCC is infected.\n",
    "\n",
    "**Suggestion**: store the infected nodes in a set, and new infected nodes during one round in another set."
   ]
  },
  {
   "cell_type": "markdown",
   "metadata": {},
   "source": [
    "Plot the number of infected nodes during the spreading process as a function of the number of steps for both the original graph and the synthetic graph. Compare the two curves and explain what you understand from this comparison."
   ]
  },
  {
   "cell_type": "code",
   "execution_count": 29,
   "metadata": {},
   "outputs": [],
   "source": [
    "def bfs_modified(my_graph):\n",
    "   \n",
    "    my_cc = {}\n",
    "    cc_index = 0\n",
    "    for source in my_graph.keys():\n",
    "        if source not in my_cc:\n",
    "            my_queue = [source]\n",
    "            marked_node = [source]\n",
    "            while my_queue:\n",
    "                node1 = my_queue.pop(0)\n",
    "                my_cc[node1] = cc_index\n",
    "                for node2 in my_graph[node1]:\n",
    "                    if node2 not in marked_node:\n",
    "                        my_queue.append(node2)\n",
    "                        marked_node.append(node2)\n",
    "            cc_index += 1\n",
    "    \n",
    "    cc_sets = {}\n",
    "    for node in my_cc:\n",
    "        cc_index = my_cc[node]\n",
    "        if cc_index in cc_sets:\n",
    "            cc_sets[cc_index].add(node)\n",
    "        else:\n",
    "            \n",
    "            cc_sets[cc_index] = {node}\n",
    "    cc_max = 0\n",
    "    for cc_index in cc_sets:\n",
    "        if len(cc_sets[cc_index]) >= len(cc_sets[cc_max]):\n",
    "            cc_max = cc_index\n",
    "    return cc_sets[cc_max]"
   ]
  },
  {
   "cell_type": "code",
   "execution_count": 31,
   "metadata": {},
   "outputs": [],
   "source": [
    "def si_model(lcc, my_graph, p):\n",
    "    '''\n",
    "    Return a dictionary representing the evolution of the number of\n",
    "    infected according to the number of steps\n",
    "        Parameters:\n",
    "            lcc (set) : A set containing all the nodes of the largest component connected\n",
    "            my_graph (dictionary of lists) : the graph\n",
    "            p (float) : probability of infection\n",
    "        Returns:\n",
    "            my_evolution (dictionary)\n",
    "    '''\n",
    "    max_infected = len(lcc)\n",
    "    infecteds = {lcc.pop()}\n",
    "    step = 0\n",
    "    my_evolution = {step : len(infecteds)}\n",
    "    while len(infecteds) < max_infected:\n",
    "        step += 1\n",
    "        new_infected = set()\n",
    "        for infected in infecteds:\n",
    "            for neighbour in my_graph[infected]:\n",
    "                tmp = random.uniform(0,1)\n",
    "                if tmp < p:\n",
    "                    new_infected.add(neighbour)\n",
    "        infecteds = infecteds.union(new_infected)\n",
    "        my_evolution[step] = len(infecteds)\n",
    "    return my_evolution"
   ]
  },
  {
   "cell_type": "code",
   "execution_count": 32,
   "metadata": {},
   "outputs": [],
   "source": [
    "inet_graph = load_clean_graph(inet)\n",
    "my_model = config_model(inet_graph)\n",
    "p = 0.1\n",
    "inet_evolution = si_model(bfs_modified(inet_graph), inet_graph, p)\n",
    "model_evolution = si_model(bfs_modified(my_model), my_model, p)"
   ]
  },
  {
   "cell_type": "code",
   "execution_count": 35,
   "metadata": {},
   "outputs": [
    {
     "data": {
      "text/plain": [
       "<matplotlib.legend.Legend at 0x7fbc4ab674f0>"
      ]
     },
     "execution_count": 35,
     "metadata": {},
     "output_type": "execute_result"
    },
    {
     "data": {
      "image/png": "[encoded data removed]",
      "text/plain": [
       "<Figure size 432x288 with 1 Axes>"
      ]
     },
     "metadata": {
      "needs_background": "light"
     },
     "output_type": "display_data"
    }
   ],
   "source": [
    "plt.plot(inet_evolution.keys(), inet_evolution.values(), label = \"Inet\")\n",
    "plt.plot(model_evolution.keys(), model_evolution.values(), label = \"Configuration Model\")\n",
    "plt.legend()"
   ]
  },
  {
   "cell_type": "raw",
   "metadata": {},
   "source": [
    "Nous pouvons observer que l'infection se propage beaucoup plus rapidement dans le graphe Configuration Model que dans le graphe Inet.Pour une probabilité d'infection de 0.1, tous les noeuds du graphe Inet sont infectés vers le tour 270 alors que dans le graphe Configuration Model, cela se déroule aux alentours du tour 100. Ce phénomène pourrait provenir du fait que contrairement au graphe Inet, le Configuration Model possède des \"liens faibles\" qui faciliterait la propagation du virus dans tout le réseau menant ainsi à la contagion de tout le réseau en un court délai."
   ]
  }
 ],
 "metadata": {
  "kernelspec": {
   "display_name": "Python 3 (ipykernel)",
   "language": "python",
   "name": "python3"
  },
  "language_info": {
   "codemirror_mode": {
    "name": "ipython",
    "version": 3
   },
   "file_extension": ".py",
   "mimetype": "text/x-python",
   "name": "python",
   "nbconvert_exporter": "python",
   "pygments_lexer": "ipython3",
   "version": "3.8.8"
  }
 },
 "nbformat": 4,
 "nbformat_minor": 2
}
