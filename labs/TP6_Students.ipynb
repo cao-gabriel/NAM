{
 "cells": [
  {
   "cell_type": "markdown",
   "metadata": {},
   "source": [
    "# Lab6 (Teacher version): configuration model\n",
    "\n",
    "We can use the following libraries."
   ]
  },
  {
   "cell_type": "code",
   "execution_count": 7,
   "metadata": {},
   "outputs": [
    {
     "name": "stdout",
     "output_type": "stream",
     "text": [
      "3.8.10 (default, Nov 26 2021, 20:14:08) \n",
      "[GCC 9.3.0]\n"
     ]
    }
   ],
   "source": [
    "import matplotlib.pyplot as plt\n",
    "import math\n",
    "import sys\n",
    "import random\n",
    "import time\n",
    "import copy\n",
    "print(sys.version)"
   ]
  },
  {
   "cell_type": "markdown",
   "metadata": {},
   "source": [
    "## Exercise 0: preliminaries "
   ]
  },
  {
   "cell_type": "markdown",
   "metadata": {},
   "source": [
    "In this prectical work, we use the graph http://lioneltabourier.fr/documents/inet.txt. It is an undirected map of a subpart of the Internet.\n",
    "\n",
    "Load it in memory as a dictionary of lists (as usual) and make the standard measurements:\n",
    "* compute its number of nodes and edges\n",
    "* plot its degree distribution\n",
    "* compute its number of triangles\n",
    "* compute a lower bound for its diameter\n",
    "\n",
    "We indicate here the number of nodes, links and triangles of this network:\n",
    "* 9740 nodes \n",
    "* 35567 edges\n",
    "* 206909 triangles"
   ]
  },
  {
   "cell_type": "code",
   "execution_count": 74,
   "metadata": {},
   "outputs": [],
   "source": [
    "def remove_loop_dupes(graph):\n",
    "    for node in graph:\n",
    "        graph[node] = list(dict.fromkeys(graph[node]))\n",
    "        try:\n",
    "            graph[node].remove(node)\n",
    "        except ValueError:\n",
    "            pass\n",
    "\n",
    "def graph_from_file(file_name):\n",
    "    graph = {}\n",
    "    with open(file_name, \"r\") as graph_file:\n",
    "        for line in graph_file:\n",
    "            try:\n",
    "                node1, node2 = [int(node) for node in line.split()]\n",
    "                if node1 not in graph:\n",
    "                    graph[node1] = []\n",
    "                graph[node1].append(node2)\n",
    "                if node2 not in graph:\n",
    "                    graph[node2]= []\n",
    "                graph[node2].append(node1)\n",
    "            except:\n",
    "                pass\n",
    "    remove_loop_dupes(graph)\n",
    "    return graph\n",
    "\n",
    "\n",
    "def graph_to_file(graph, file_name):\n",
    "    with open(file_name, \"w\") as graph_file:\n",
    "        for node1 in graph:\n",
    "            for node2 in graph[node1]:\n",
    "                graph_file.write(\"{} {}\\n\".format(node1, node2))\n",
    "def count_links(graph):\n",
    "    link_count = 0\n",
    "    for node in graph:\n",
    "        link_count += len(graph[node])\n",
    "    return link_count // 2\n",
    "def compute_degree_dist(graph):\n",
    "    degree_dist = {}\n",
    "    for node in graph:\n",
    "        degree = len(graph[node])\n",
    "        if degree not in degree_dist:\n",
    "            degree_dist[degree] = 0\n",
    "        degree_dist[degree] += 1\n",
    "    return degree_dist\n",
    "\n",
    "def bfs(graph, node_start):\n",
    "    queue = [node_start]\n",
    "    marked = [node_start]\n",
    "    while queue:\n",
    "        node1 = queue.pop(0)\n",
    "        for node2 in graph[node1]:\n",
    "            if node2 not in marked:\n",
    "                queue.append(node2)\n",
    "                marked.append(node2)\n",
    "    return marked\n",
    "\n",
    "def compute_size_lcc(graph):\n",
    "    nodes_cc_index = {}\n",
    "    cc_index = 0\n",
    "    cc_sizes = []\n",
    "    for node in graph:\n",
    "        nodes_cc_index[node] = -1\n",
    "    for node in graph:\n",
    "        if nodes_cc_index[node] == -1:\n",
    "            cc = bfs(graph, node)\n",
    "            cc_sizes.append(len(cc))\n",
    "            for node_marked in cc:\n",
    "                nodes_cc_index[node_marked] = cc_index\n",
    "            cc_index += 1\n",
    "    return max(cc_sizes)\n",
    "\n",
    "def compute_distance(graph, node_start):\n",
    "    queue = [node_start]\n",
    "    distances = {}\n",
    "    for node in graph:\n",
    "        distances[node] = -1\n",
    "    distances[node_start] = 0\n",
    "    while queue:\n",
    "        node1 = queue.pop(0)\n",
    "        for node2 in graph[node1]:\n",
    "            if distances[node2] == -1:\n",
    "                queue.append(node2)\n",
    "                distances[node2] = distances[node1] + 1\n",
    "    return distances\n",
    "\n",
    "def compute_diameter(graph, sample_size=10):\n",
    "    nodes_start = random.choices(list(graph.keys()), k=sample_size)\n",
    "    return max([max(compute_distance(graph, node_start).values()) for node_start in nodes_start])\n",
    "\n",
    "def count_triangle(graph):\n",
    "    triangle_count = 0\n",
    "    for node1 in graph:\n",
    "        for node2 in graph[node1]:\n",
    "            if node1 < node2:\n",
    "                for node3 in graph[node1]:\n",
    "                    if node3 in graph[node2] and node2 < node3:\n",
    "                        triangle_count += 1\n",
    "    return triangle_count\n",
    "def compute_degree_dist(graph):\n",
    "    degree_dist = {}\n",
    "    for node in graph:\n",
    "        degree = len(graph[node])\n",
    "        if degree not in degree_dist:\n",
    "            degree_dist[degree] = 0\n",
    "        degree_dist[degree] += 1\n",
    "    return degree_dist\n",
    "def plot_degree_dist(graph, log=True):\n",
    "    if log:\n",
    "        plt.yscale(\"log\")\n",
    "        plt.xscale(\"log\")\n",
    "    degree_dist = compute_degree_dist(graph)\n",
    "    plt.scatter(degree_dist.keys(), degree_dist.values())\n",
    "\n",
    "def remove_nodes(graph, nodes_deleted):\n",
    "    tmp = copy.deepcopy(graph)\n",
    "    for node1 in nodes_deleted:\n",
    "        for node2 in tmp[node1]:\n",
    "\n",
    "            tmp[node2].remove(node1)\n",
    "        tmp.pop(node1)\n",
    "\n",
    "    return tmp\n",
    "\n",
    "def random_failure(graph, max_deleted=8000, step=100):\n",
    "    robust_dic = {}\n",
    "    for n in range(0, max_deleted, step):\n",
    "        nodes = list(graph.keys())\n",
    "        random.shuffle(nodes)\n",
    "        tmp = remove_nodes(graph, nodes[0:n])\n",
    "        lcc_size = compute_size_lcc(tmp)\n",
    "        robust_dic[n] = lcc_size\n",
    "    return robust_dic\n",
    "        \n",
    "            "
   ]
  },
  {
   "cell_type": "code",
   "execution_count": 21,
   "metadata": {},
   "outputs": [
    {
     "name": "stdout",
     "output_type": "stream",
     "text": [
      "Number of nodes : 9740\n",
      "Number of links : 35567\n",
      "Number of triangles: 206909\n",
      "Lower bound of diameter : 30\n"
     ]
    }
   ],
   "source": [
    "inet_graph = graph_from_file(\"inet.txt\")\n",
    "print(\"Number of nodes : {}\".format(len(inet_graph)))\n",
    "print(\"Number of links : {}\".format(count_links(inet_graph)))\n",
    "print(\"Number of triangles: {}\".format(count_triangle(inet_graph)))\n",
    "print(\"Lower bound of diameter : {}\".format(compute_diameter(inet_graph)))"
   ]
  },
  {
   "cell_type": "code",
   "execution_count": 23,
   "metadata": {},
   "outputs": [
    {
     "data": {
      "image/png": "[encoded data removed]",
      "text/plain": [
       "<Figure size 432x288 with 1 Axes>"
      ]
     },
     "metadata": {
      "needs_background": "light"
     },
     "output_type": "display_data"
    }
   ],
   "source": [
    "plot_degree_dist(inet_graph)"
   ]
  },
  {
   "cell_type": "markdown",
   "metadata": {},
   "source": [
    "## Exercice 1: generation"
   ]
  },
  {
   "cell_type": "markdown",
   "metadata": {},
   "source": [
    "### Question 1\n",
    "\n",
    "Create a Configuration Model of the graph with the same degree sequence as the original graph.\n",
    "\n",
    "Unfortunately, the version \"with rejection\" runs too slowly to be used here, so implement the version \"with loops and multi-edges deletion\" seen in the course."
   ]
  },
  {
   "cell_type": "code",
   "execution_count": 70,
   "metadata": {},
   "outputs": [],
   "source": [
    "def swap(l, i, j):\n",
    "    l[i], l[j] = l[j], l[i]\n",
    "def configuration(original_graph):\n",
    "    my_table = []\n",
    "    graph = {}\n",
    "    for node in original_graph:\n",
    "        my_table += [node] * len(original_graph[node])\n",
    "        graph[node] = []\n",
    "    i = len(my_table)\n",
    "    while i > 0:\n",
    "        node1_index, node2_index = random.randint(0, i - 1), random.randint(0, i - 2)        \n",
    "        swap(my_table, node1_index, i - 1)\n",
    "        swap(my_table, node1_index, i - 2)\n",
    "        node1, node2 = my_table[i - 1], my_table[i - 2]\n",
    "\n",
    "        if node1 != node2 and node2 not in graph[node1]:\n",
    "            graph[node1].append(node2)\n",
    "            graph[node2].append(node1)\n",
    "        i = i - 2\n",
    "        \n",
    "    return graph\n",
    "        \n",
    "\n",
    "        "
   ]
  },
  {
   "cell_type": "code",
   "execution_count": 71,
   "metadata": {},
   "outputs": [
    {
     "name": "stdout",
     "output_type": "stream",
     "text": [
      "35447\n"
     ]
    }
   ],
   "source": [
    "config_graph = configuration(inet_graph)\n",
    "print(count_links(config_graph))"
   ]
  },
  {
   "cell_type": "markdown",
   "metadata": {},
   "source": [
    "### Question 2\n",
    "\n",
    "* Compare the initial degree distribution to the configuration model degree distribution. To do so, compute the fraction of nodes which degree is different to the orginal distribution: $ \\frac{n_{mod}}{n} $.\n",
    "* Compare the number of triangles of the configuration model to the one of the original graph, explain in one sentence what you have observed and if it is consistent with what you expected."
   ]
  },
  {
   "cell_type": "code",
   "execution_count": 72,
   "metadata": {},
   "outputs": [],
   "source": [
    "def compute_diff_ratio(graph1, graph2):\n",
    "    node_diff = 0\n",
    "    for node in graph1:\n",
    "        if len(graph1[node]) != len(graph2[node]):\n",
    "            node_diff += 1\n",
    "    return node_diff / len(graph1)"
   ]
  },
  {
   "cell_type": "code",
   "execution_count": 73,
   "metadata": {},
   "outputs": [
    {
     "data": {
      "text/plain": [
       "0.021252566735112936"
      ]
     },
     "execution_count": 73,
     "metadata": {},
     "output_type": "execute_result"
    },
    {
     "data": {
      "image/png": "[encoded data removed]",
      "text/plain": [
       "<Figure size 432x288 with 1 Axes>"
      ]
     },
     "metadata": {
      "needs_background": "light"
     },
     "output_type": "display_data"
    }
   ],
   "source": [
    "plot_degree_dist(inet_graph)\n",
    "plot_degree_dist(config_graph)\n",
    "compute_diff_ratio(inet_graph, config_graph)"
   ]
  },
  {
   "cell_type": "markdown",
   "metadata": {},
   "source": [
    "## Exercise 2: robustness analysis"
   ]
  },
  {
   "cell_type": "markdown",
   "metadata": {},
   "source": [
    "### Question 3\n",
    "\n",
    "In this question, we want to explore if the original network is more or less robust to attacks than the corresponding configuration model is. \n",
    "\n",
    "For this purpose, we follow the same protocol as the one we have seen in PW3: we plot the size of the LCC as a function of a number of nodes removed. Nodes are removed randomly.\n",
    "\n",
    "Discuss your observations in a few sentences, in particular do you think that the degree distribution alone can explain the robustness to random failures?"
   ]
  },
  {
   "cell_type": "code",
   "execution_count": 75,
   "metadata": {},
   "outputs": [
    {
     "data": {
      "text/plain": [
       "[<matplotlib.lines.Line2D at 0x7ff5a854e610>]"
      ]
     },
     "execution_count": 75,
     "metadata": {},
     "output_type": "execute_result"
    },
    {
     "data": {
      "image/png": "[encoded data removed]",
      "text/plain": [
       "<Figure size 432x288 with 1 Axes>"
      ]
     },
     "metadata": {
      "needs_background": "light"
     },
     "output_type": "display_data"
    }
   ],
   "source": [
    "random_inet = random_failure(inet_graph)\n",
    "random_config = random_failure(config_graph)\n",
    "x_inet, y_inet = random_inet.keys(), random_inet.values()\n",
    "x_config, y_config = random_config.keys(), random_config.values()"
   ]
  },
  {
   "cell_type": "code",
   "execution_count": 107,
   "metadata": {},
   "outputs": [
    {
     "data": {
      "text/plain": [
       "Text(0, 0.5, 'Size of LCC')"
      ]
     },
     "execution_count": 107,
     "metadata": {},
     "output_type": "execute_result"
    },
    {
     "data": {
      "image/png": "[encoded data removed]",
      "text/plain": [
       "<Figure size 432x288 with 1 Axes>"
      ]
     },
     "metadata": {
      "needs_background": "light"
     },
     "output_type": "display_data"
    }
   ],
   "source": [
    "plt.plot(x_inet, y_inet, label = \"Inet\")\n",
    "plt.plot(x_config, y_config, label = \"Config\")\n",
    "plt.legend()\n",
    "plt.xlabel(\"Number of nodes deleted\")\n",
    "plt.ylabel(\"Size of LCC\")"
   ]
  },
  {
   "cell_type": "markdown",
   "metadata": {},
   "source": [
    "## Exercise 3: basic spreading experiment\n",
    "\n",
    "In this exercise, we implement a basic SI model on the real network and compare it to the same spreading model on the synthetic graph obtained with the Configuration Model.\n",
    "\n",
    "In a SI model, a node is either Susceptible (S) or Infected (I) and an Infected node cannot go back to the Susceptible status."
   ]
  },
  {
   "cell_type": "markdown",
   "metadata": {},
   "source": [
    "### Question 4\n",
    "\n",
    "Choose a node which is in the largest connected component (LCC) for both the real graph and the synthetic one. It i named the $seed$ of the infection: it is the only infected node at step = 0.\n",
    "\n",
    "Then, run the following model: \n",
    "- at each step, all infected nodes try to infect all their susceptible neighbors in the graph with a probability $p$ (the same for every node).\n",
    "- the process stops when every node in the LCC is infected.\n",
    "\n",
    "**Suggestion**: store the infected nodes in a set, and new infected nodes during one round in another set."
   ]
  },
  {
   "cell_type": "code",
   "execution_count": 95,
   "metadata": {},
   "outputs": [],
   "source": [
    "def compute_lcc(graph):\n",
    "    nodes_cc_index = {}\n",
    "    cc_index = 0\n",
    "    cc_dic = []\n",
    "    for node in graph:\n",
    "        nodes_cc_index[node] = -1\n",
    "    for node in graph:\n",
    "        if nodes_cc_index[node] == -1:\n",
    "            cc = bfs(graph, node)\n",
    "            cc_dic.append(cc)\n",
    "            for node_marked in cc:\n",
    "                nodes_cc_index[node_marked] = cc_index\n",
    "            cc_index += 1\n",
    "    sorted(cc_dic, key=lambda x : len(x), reverse=True)\n",
    "    return cc_dic[0]\n",
    "def si_model(graph, p):\n",
    "    lcc = compute_lcc(graph)\n",
    "    infected, evolution, step = {lcc[0]}, {0 : 1}, 0\n",
    "    while len(infected) < len(lcc):\n",
    "        step += 1\n",
    "        new_infected = []\n",
    "        for node1 in infected:\n",
    "            for node2 in graph[node1]:\n",
    "                if random.uniform(0,1) < p:\n",
    "                    new_infected.append(node2)\n",
    "        infected.update(new_infected)\n",
    "        evolution[step] = len(infected)\n",
    "    return evolution\n",
    "                    \n",
    "    "
   ]
  },
  {
   "cell_type": "code",
   "execution_count": 96,
   "metadata": {},
   "outputs": [],
   "source": [
    "inet_evolution = si_model(inet_graph, 0.1)"
   ]
  },
  {
   "cell_type": "code",
   "execution_count": 98,
   "metadata": {},
   "outputs": [],
   "source": [
    "config_evolution = si_model(config_graph, 0.1)"
   ]
  },
  {
   "cell_type": "markdown",
   "metadata": {},
   "source": [
    "Plot the number of infected nodes during the spreading process as a function of the number of steps for both the original graph and the synthetic graph. Compare the two curves and explain what you understand from this comparison."
   ]
  },
  {
   "cell_type": "code",
   "execution_count": 105,
   "metadata": {},
   "outputs": [
    {
     "data": {
      "text/plain": [
       "Text(0, 0.5, 'Number of infected')"
      ]
     },
     "execution_count": 105,
     "metadata": {},
     "output_type": "execute_result"
    },
    {
     "data": {
      "image/png": "[encoded data removed]",
      "text/plain": [
       "<Figure size 432x288 with 1 Axes>"
      ]
     },
     "metadata": {
      "needs_background": "light"
     },
     "output_type": "display_data"
    }
   ],
   "source": [
    "plt.plot(inet_evolution.keys(), inet_evolution.values(), label = \"inet\")\n",
    "plt.plot(config_evolution.keys(), config_evolution.values(), label = \"config\")\n",
    "plt.legend()\n",
    "plt.xlabel(\"Time\")\n",
    "plt.ylabel(\"Number of infected\")"
   ]
  },
  {
   "cell_type": "code",
   "execution_count": null,
   "metadata": {},
   "outputs": [],
   "source": []
  },
  {
   "cell_type": "code",
   "execution_count": null,
   "metadata": {},
   "outputs": [],
   "source": []
  }
 ],
 "metadata": {
  "kernelspec": {
   "display_name": "Python 3 (ipykernel)",
   "language": "python",
   "name": "python3"
  },
  "language_info": {
   "codemirror_mode": {
    "name": "ipython",
    "version": 3
   },
   "file_extension": ".py",
   "mimetype": "text/x-python",
   "name": "python",
   "nbconvert_exporter": "python",
   "pygments_lexer": "ipython3",
   "version": "3.8.10"
  }
 },
 "nbformat": 4,
 "nbformat_minor": 2
}
