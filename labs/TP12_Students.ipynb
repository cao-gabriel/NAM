{
 "cells": [
  {
   "cell_type": "markdown",
   "metadata": {},
   "source": [
    "# TP12 (Student version): simulating traceroute to sample degree distributions\n",
    "\n",
    "We can use the following libraries."
   ]
  },
  {
   "cell_type": "code",
   "execution_count": 6,
   "metadata": {},
   "outputs": [
    {
     "name": "stdout",
     "output_type": "stream",
     "text": [
      "3.8.5 (default, Jul 28 2020, 12:59:40) \n",
      "[GCC 9.3.0]\n"
     ]
    }
   ],
   "source": [
    "import matplotlib.pyplot as plt\n",
    "import math\n",
    "import sys\n",
    "import random\n",
    "import time\n",
    "from collections import defaultdict\n",
    "import queue\n",
    "print(sys.version)"
   ]
  },
  {
   "cell_type": "markdown",
   "metadata": {},
   "source": [
    "The purpose of this practical work is to reproduce the experiments inspired by *Lakhina et al.* \n",
    "\n",
    "We remind that the purpose of these experiments is to evaluate how traceroute samples the degree distribution of the Internet at the IP level."
   ]
  },
  {
   "cell_type": "markdown",
   "metadata": {},
   "source": [
    "## Exercise 1: traceroute simulation\n",
    "\n",
    "For this exercise, you can use the connected CAIDA graph that we have already seen in previous PW: http://lioneltabourier.fr/documents/as_caida.txt"
   ]
  },
  {
   "cell_type": "markdown",
   "metadata": {},
   "source": [
    "### Question 1\n",
    "\n",
    "Load the graph in memory and implement a BFS algorithm on it. Store the result as a *table of fathers*, as seen in the course: you can make for example a dictionary, a dictionary key is a nodes id and the associated value is the father of this node in the BFS.\n"
   ]
  },
  {
   "cell_type": "markdown",
   "metadata": {},
   "source": [
    "### Question 2\n",
    "\n",
    "Remembering that the table of fathers gives you the degree of a node **in the BFS tree** (according to the method seen in the course), plot the degree distribution of the BFS tree.\n",
    "\n",
    "What simple relationship do you think there is between the degree of a node $i$ in the BFS tree $ d_T(i)$ and its degree in the original graph $ d_G(i)$?\n",
    "\n"
   ]
  },
  {
   "cell_type": "markdown",
   "metadata": {},
   "source": [
    "### Question 3\n",
    "\n",
    "Implement a restricted BFS using the restriction to destinations algorithm seen in the course. \n",
    "\n",
    "For this purpose, define a random set of 1000 destinations in the CAIDA graph and restrict the fathers table to these destinations."
   ]
  },
  {
   "cell_type": "markdown",
   "metadata": {},
   "source": [
    "### Question 4\n",
    "\n",
    "In this question, we want to make a function which creates a graph which is the union of several BFS trees obtained from different seeds. You can do it in the way you want. \n",
    "\n",
    "To guide you, one possible way to do this is:\n",
    "\n",
    "- make a function which creates a set of edges from a BFS tree, for example if node $j$ father's in the BFS tree is node $i$, then the link $(i,j)$ is in the set,\n",
    "\n",
    "- then make the union of edges from the sets obtained with different seeds,\n",
    "\n",
    "- finally transform these edges into a graph in the usual format (table of adjacency lists)."
   ]
  },
  {
   "cell_type": "markdown",
   "metadata": {},
   "source": [
    "## Exercise 2: exploration on artificial graphs\n",
    "\n",
    "The purpose of this section is to generate an artificial graph and reproduce the results seen in the course.\n",
    "\n",
    "Instead of working with a predefined network, we generate an Erdös-Rényi graph. You can of course re-use the codes you have made for the Practical Work \"Model\"."
   ]
  },
  {
   "cell_type": "markdown",
   "metadata": {},
   "source": [
    "###  Question 5\n",
    "\n",
    "Generate an Erdös-Rényi graph with $n=100000$ nodes and $m=750000$ links.\n",
    "\n",
    "Then select its largest connected component (LCC), you can use a BFS to isolate the LCC. "
   ]
  },
  {
   "cell_type": "markdown",
   "metadata": {},
   "source": [
    "### Question 6\n",
    "\n",
    "Using the codes of the previous questions:\n",
    "\n",
    "- select randomly 5 nodes in the LCC of your Erdös-Rényi graph, these nodes are your sources,\n",
    "\n",
    "- select randomly 1000 nodes (different from the sources) in the LCC of the Erdös-Rényi graph, these nodes are your targets,\n",
    "\n",
    "- do a BFS starting from each of your sources,\n",
    "\n",
    "- restrict these BFS to the 1000 random targets selected,\n",
    "\n",
    "- plot the degree distribution of the union of the restricted BFS trees obtained and see if it resembles the result seen in the course."
   ]
  }
 ],
 "metadata": {
  "kernelspec": {
   "display_name": "Python 3 (ipykernel)",
   "language": "python",
   "name": "python3"
  },
  "language_info": {
   "codemirror_mode": {
    "name": "ipython",
    "version": 3
   },
   "file_extension": ".py",
   "mimetype": "text/x-python",
   "name": "python",
   "nbconvert_exporter": "python",
   "pygments_lexer": "ipython3",
   "version": "3.8.8"
  }
 },
 "nbformat": 4,
 "nbformat_minor": 2
}
