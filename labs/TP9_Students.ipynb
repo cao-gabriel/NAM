{
 "cells": [
  {
   "cell_type": "markdown",
   "id": "f7cf664a",
   "metadata": {},
   "source": [
    "# TP Machine Learning on Networks"
   ]
  },
  {
   "cell_type": "markdown",
   "id": "d785dd9c",
   "metadata": {},
   "source": [
    "----------"
   ]
  },
  {
   "cell_type": "markdown",
   "id": "868a8d75",
   "metadata": {},
   "source": [
    "## Preparatory Instructions\n",
    "\n",
    "#### Packages\n",
    "Make sure you have installed the following Packages:\n",
    "* pytorch 1.9.*\n",
    "    - Please go to https://pytorch.org to generate the installation command for your setup\n",
    "* pytorch-geometric\n",
    "    - Please go to https://pytorch-geometric.readthedocs.io/en/latest/notes/installation.html to generate the installation command for your setup\n",
    "* matplotlib\n",
    "\n",
    "Additionally, make sure to have the python files **utility_functions.py** and **neural_network_models.py** provided by the teacher"
   ]
  },
  {
   "cell_type": "markdown",
   "id": "338fb99e",
   "metadata": {},
   "source": [
    "-----"
   ]
  },
  {
   "cell_type": "markdown",
   "id": "51201ea6",
   "metadata": {},
   "source": [
    "## TME Instructions"
   ]
  },
  {
   "cell_type": "markdown",
   "id": "9e008102",
   "metadata": {},
   "source": [
    "### Excercise 1: Node classification with Graph Neural Networks"
   ]
  },
  {
   "cell_type": "markdown",
   "id": "c03bb36d",
   "metadata": {},
   "source": [
    "#### 1.1: Importance of Graphs in Machine Learning"
   ]
  },
  {
   "cell_type": "markdown",
   "id": "88874b29",
   "metadata": {},
   "source": [
    "**1.1.1**. Load cora dataset\n",
    "- Use num_train_per_class = 100\n",
    "- Use num_val = 300\n",
    "- Use num_test = 1000"
   ]
  },
  {
   "cell_type": "markdown",
   "id": "6218061d",
   "metadata": {},
   "source": [
    "**1.1.2**. Classification of cora dataset with classical neural network\n",
    "- Create a MLP_1_hidden model (neural network black box). \n",
    "    - Use 50 hidden neurons.\n",
    "    \n",
    "- Test the performance of the model without training\n",
    "- Train the model (do not use the validation set, play with the number of epochs)\n",
    "- Test the performance of the model after training"
   ]
  },
  {
   "cell_type": "markdown",
   "id": "37fcece5",
   "metadata": {},
   "source": [
    "**1.1.3**. Classification of cora dataset with graph neural network \n",
    "- Create a GCN_1_hidden model (neural network black box). \n",
    "    - Use 50 hidden neurons.\n",
    "    \n",
    "- Test the performance of the model without training\n",
    "- Train the model (do not use the validation set, play with the number of epochs)\n",
    "- Test the performance of the model after training"
   ]
  },
  {
   "cell_type": "markdown",
   "id": "f3a9bec8",
   "metadata": {},
   "source": [
    "#### 1.2: Preventing Overfitting"
   ]
  },
  {
   "cell_type": "markdown",
   "id": "399b82d2",
   "metadata": {},
   "source": [
    "**1.2.1**. Repeat **1.1.2** but this time use the validation set during training"
   ]
  },
  {
   "cell_type": "markdown",
   "id": "13fe4111",
   "metadata": {},
   "source": [
    "**1.2.2**. Repeat **1.1.3** but this time use the validation set during training"
   ]
  },
  {
   "cell_type": "markdown",
   "id": "13ed5cff",
   "metadata": {},
   "source": [
    "#### 1.3: Impact of training samples"
   ]
  },
  {
   "cell_type": "markdown",
   "id": "97811a86",
   "metadata": {},
   "source": [
    "**1.3.1**. Load non-trained MLP_1_hidden and GCN_1_hidden models"
   ]
  },
  {
   "cell_type": "markdown",
   "id": "4e7b6df0",
   "metadata": {},
   "source": [
    "**1.3.2**. Train both models for different amounts of training samples (both models should be trained on the same data)\n",
    "- Use num_val = 300\n",
    "- Use num_test = 1000"
   ]
  },
  {
   "cell_type": "markdown",
   "id": "61b16c68",
   "metadata": {},
   "source": [
    "**1.3.3**. Compare the performance of the models"
   ]
  },
  {
   "cell_type": "markdown",
   "id": "f48319da",
   "metadata": {},
   "source": [
    "#### 1.4: Impact of network parameters"
   ]
  },
  {
   "cell_type": "markdown",
   "id": "a6389668",
   "metadata": {},
   "source": [
    "**1.4.1**. Load cora dataset\n",
    "- Use num_train_per_class = 20\n",
    "- Use num_val = 300\n",
    "- Use num_test = 1000"
   ]
  },
  {
   "cell_type": "markdown",
   "id": "342ebfb7",
   "metadata": {},
   "source": [
    "**1.4.2**. Load a non-trained GCN_1_hidden model"
   ]
  },
  {
   "cell_type": "markdown",
   "id": "97cce42f",
   "metadata": {},
   "source": [
    "**1.4.3**. Train and evaluate the GCN_1_hidden model for different number of hidden neurons"
   ]
  },
  {
   "cell_type": "markdown",
   "id": "1a225e2a",
   "metadata": {},
   "source": [
    "**1.4.4**. Load a non-trained GCN_2_hidden model"
   ]
  },
  {
   "cell_type": "markdown",
   "id": "737fd1cc",
   "metadata": {},
   "source": [
    "**1.4.5**. Train and evaluate the GCN_2_hidden model for different number of hidden neurons in both hidden layers"
   ]
  },
  {
   "cell_type": "markdown",
   "id": "c1097298",
   "metadata": {},
   "source": [
    "#### Questions:\n",
    "* Describe differences between the multi-layer perceptron and the graph convolutional neural network.\n",
    "* Describe the issue of overfitting and how the evaluation set can be used to amend it.\n",
    "* Describe what are the effects of varying the number of training samples and the reasons behind them.\n",
    "* Describe what is the effect of increasing/decreasing the number of hidden layers and neurons in them."
   ]
  },
  {
   "cell_type": "markdown",
   "id": "23bff99b",
   "metadata": {},
   "source": [
    "### Excercise 2: Graph classification with Graph Neural Networks"
   ]
  },
  {
   "cell_type": "markdown",
   "id": "e814fa0c",
   "metadata": {},
   "source": [
    "#### 2.1: The learning rate and batch sizes"
   ]
  },
  {
   "cell_type": "markdown",
   "id": "42e6933a",
   "metadata": {},
   "source": [
    "**2.1.1**. Load proteins dataset\n",
    "- Use num_train_per_class = 150\n",
    "- Use num_val = 300\n",
    "- Use num_test = 500\n",
    "- Use batch_size = 32"
   ]
  },
  {
   "cell_type": "markdown",
   "id": "6c73dc7c",
   "metadata": {},
   "source": [
    "**2.1.2**. Create a GCN_graph_classif_model model"
   ]
  },
  {
   "cell_type": "markdown",
   "id": "d4a460e5",
   "metadata": {},
   "source": [
    "**2.1.3**. Train and evaluate the model for different values of the learning rate"
   ]
  },
  {
   "cell_type": "markdown",
   "id": "31bda21e",
   "metadata": {},
   "source": [
    "**2.1.4**. Train and evaluate the model for different values of the batch_size (batch_size cannot be larger than num_train_per_class)"
   ]
  },
  {
   "cell_type": "markdown",
   "id": "01285360",
   "metadata": {},
   "source": [
    "**2.1.4**. Train and evaluate the model by decreasing num_train_per_class"
   ]
  },
  {
   "cell_type": "markdown",
   "id": "803ae0d4",
   "metadata": {},
   "source": [
    "#### Questions:\n",
    "* Describe what is the role of the learning rate.\n",
    "* Describe what is the role of the batch size.\n",
    "* Does the best values of learning rate and batch size depend on the size of the training dataset? If they do, "
   ]
  },
  {
   "cell_type": "markdown",
   "id": "f1aba388",
   "metadata": {},
   "source": [
    "#### 2.2: Proposing your own model"
   ]
  },
  {
   "cell_type": "markdown",
   "id": "6ecf334e",
   "metadata": {},
   "source": [
    "**2.2.1**. Open the **neural_network_models.py** file and propose a modification of the **GCN_graph_classif_model** model (by adding or removing layers) that either improves perdiction performance or that makes training easier while keeping performance (w.r.t. to your results from excercise 2.1).\n",
    "\n"
   ]
  },
  {
   "cell_type": "markdown",
   "id": "b530ebdd",
   "metadata": {},
   "source": [
    "-----"
   ]
  },
  {
   "cell_type": "markdown",
   "id": "0e99ba9d",
   "metadata": {},
   "source": [
    "## Appendix\n",
    "\n",
    "The following methods are all contained in the file **utility_functions.py**"
   ]
  },
  {
   "cell_type": "markdown",
   "id": "8d7b2172",
   "metadata": {},
   "source": [
    "### Loading datasets"
   ]
  },
  {
   "cell_type": "markdown",
   "id": "ebe3420e",
   "metadata": {},
   "source": [
    "**load_cora_dataset(num_train_per_class, num_val, num_test, seed=0)**\n",
    "\n",
    "Input:\n",
    "- num_train_per_class: number of elements taken for each class for training\n",
    "- num_val: number of elements assigned to validation set\n",
    "- num_test: number of elements assigned to the test set\n",
    "\n",
    "Output:\n",
    "- Dataset container (it has 1 graph object)"
   ]
  },
  {
   "cell_type": "markdown",
   "id": "16d2bff7",
   "metadata": {},
   "source": [
    "**load_protein_dataset(num_train_per_class, num_val, num_test, batch_size, seed=0)**\n",
    "\n",
    "Input:\n",
    "- num_train_per_class: number of elements taken for each class for training\n",
    "- num_val: number of elements assigned to validation set\n",
    "- num_test: number of elements assigned to the test set\n",
    "\n",
    "Output:\n",
    "- Dataset container (it has 1113 graph objects)"
   ]
  },
  {
   "cell_type": "markdown",
   "id": "b95a9415",
   "metadata": {},
   "source": [
    "**Dataset container**\n",
    "\n",
    "This is a container that provides access to all the graph objects associated to this dataset. Each graph object has all the necessary edge-lists, features and splits required by the neural network models.  \n",
    "\n",
    "The following Dataset methods will be useful to you:\n",
    "\n",
    "* Dataset.num_features : number of features associated to each vertex\n",
    "* Dataset.num_classes : number of classes to predict\n",
    "* Dataset[ n ] : access to the n-th graph object"
   ]
  },
  {
   "cell_type": "markdown",
   "id": "c8ca88cf",
   "metadata": {},
   "source": [
    "### Creating, training and testing a multi-layer perceptron with 1 hidden layer"
   ]
  },
  {
   "cell_type": "markdown",
   "id": "42f2bf95",
   "metadata": {},
   "source": [
    "**get_MLP_1_hidden(in_dimension, hid_dimension, out_dimension)**\n",
    "\n",
    "Input:\n",
    "- in_dimension: Number of neurons input layer\n",
    "- hid_dimension: Number of neurons hidden layer\n",
    "- out_dimension: Number of neurons output layer\n",
    "\n",
    "Output:\n",
    "- Untrained MLP_1_hidden neural network (black-box) model"
   ]
  },
  {
   "cell_type": "markdown",
   "id": "e3facca8",
   "metadata": {},
   "source": [
    "**train_MLP_1_hidden(model, data, num_epochs, lr=0.01, use_val=False)**\n",
    "\n",
    "Input:\n",
    "- model: Untrained MLP_1_hidden model\n",
    "- data: Graph object \n",
    "- num_epochs: Number of iterations during training phase\n",
    "- lr (optional, default=0.01): Learning rate\n",
    "- use_val (optional, default=False): Use the validation set during training \n",
    "\n",
    "Output:\n",
    "- Trained MLP_1_hidden model"
   ]
  },
  {
   "cell_type": "markdown",
   "id": "101a1715",
   "metadata": {},
   "source": [
    "**test_MLP_1_hidden(model, data)**\n",
    "\n",
    "Input:\n",
    "- model: MLP_1_hidden model\n",
    "- data: Graph object \n",
    "\n",
    "Output:\n",
    "- Accuracy of the model on the test set"
   ]
  },
  {
   "cell_type": "markdown",
   "id": "8d115e97",
   "metadata": {},
   "source": [
    "### Creating, training and testing a graph convolutional network for node classification with 1 hidden layer"
   ]
  },
  {
   "cell_type": "markdown",
   "id": "0ea6a8b8",
   "metadata": {},
   "source": [
    "**get_GCN_1_hidden(in_dimension, hid_dimension, out_dimension)**\n",
    "\n",
    "Input:\n",
    "- in_dimension: Number of neurons input layer\n",
    "- hid_dimension: Number of neurons hidden layer\n",
    "- out_dimension: Number of neurons output layer\n",
    "\n",
    "Output:\n",
    "- Untrained GCN_1_hidden neural network (black-box) model"
   ]
  },
  {
   "cell_type": "markdown",
   "id": "6a82edff",
   "metadata": {},
   "source": [
    "**train_GCN_1_hidden(model, data, num_epochs, lr=0.01, use_val=False)**\n",
    "\n",
    "Input:\n",
    "- model: Untrained GCN_1_hidden model\n",
    "- data: Graph object \n",
    "- num_epochs: Number of iterations during training phase\n",
    "- lr (optional, default=0.01): Learning rate\n",
    "- use_val (optional, default=False): Use the validation set during training \n",
    "\n",
    "Output:\n",
    "- Trained GCN_1_hidden model"
   ]
  },
  {
   "cell_type": "markdown",
   "id": "188241ed",
   "metadata": {},
   "source": [
    "**test_GCN_1_hidden(model, data)**\n",
    "\n",
    "Input:\n",
    "- model: GCN_1_hidden model\n",
    "- data: Graph object \n",
    "\n",
    "Output:\n",
    "- Accuracy of the model on the test set"
   ]
  },
  {
   "cell_type": "markdown",
   "id": "9e616329",
   "metadata": {},
   "source": [
    "### Creating, training and testing a graph convolutional network for node classification with 2 hidden layers"
   ]
  },
  {
   "cell_type": "markdown",
   "id": "95b6e7e6",
   "metadata": {},
   "source": [
    "**get_GCN_2_hidden(in_dimension, hid_1_dimension, hid_2_dimension, out_dimension)**\n",
    "\n",
    "Input:\n",
    "- in_dimension: Number of neurons input layer\n",
    "- hid_1_dimension: Number of neurons in first hidden layer\n",
    "- hid_2_dimension: Number of neurons in second hidden layer\n",
    "- out_dimension: Number of neurons output layer\n",
    "\n",
    "Output:\n",
    "- Untrained GCN_2_hidden neural network (black-box) model"
   ]
  },
  {
   "cell_type": "markdown",
   "id": "a698e4f8",
   "metadata": {},
   "source": [
    "**train_GCN_2_hidden(model, data, num_epochs, lr=0.01, use_val=False)**\n",
    "\n",
    "Input:\n",
    "- model: Untrained GCN_2_hidden model\n",
    "- data: Graph object \n",
    "- num_epochs: Number of iterations during training phase\n",
    "- lr (optional, default=0.01): Learning rate\n",
    "- use_val (optional, default=False): Use the validation set during training \n",
    "\n",
    "Output:\n",
    "- Trained GCN_2_hidden model"
   ]
  },
  {
   "cell_type": "markdown",
   "id": "68c3f4fe",
   "metadata": {},
   "source": [
    "**test_GCN_2_hidden(model, data)**\n",
    "\n",
    "Input:\n",
    "- model: GCN_2_hidden model\n",
    "- data: Graph object \n",
    "\n",
    "Output:\n",
    "- Accuracy of the model on the test set"
   ]
  },
  {
   "cell_type": "markdown",
   "id": "6e4fb2b8",
   "metadata": {},
   "source": [
    "### Creating, training and testing a graph convolutional network for graph classification"
   ]
  },
  {
   "cell_type": "markdown",
   "id": "2e1a040c",
   "metadata": {},
   "source": [
    "**get_GCN_graph_classif(in_dimension, hid_1_dimension, hid_2_dimension, hid_3_dimension, out_dimension)**\n",
    "\n",
    "Input:\n",
    "- in_dimension: Number of neurons input layer\n",
    "- hid_1_dimension: Number of neurons in first hidden layer\n",
    "- hid_2_dimension: Number of neurons in second hidden layer\n",
    "- hid_3_dimension: Number of neurons in third hidden layer\n",
    "- out_dimension: Number of neurons output layer\n",
    "\n",
    "Output:\n",
    "- Untrained GCN_graph_classif neural network (black-box) model"
   ]
  },
  {
   "cell_type": "markdown",
   "id": "e2f29f71",
   "metadata": {},
   "source": [
    "**train_GCN_graph_classif(model, dataset, num_epochs, lr=0.01, use_val=False)**\n",
    "\n",
    "Input:\n",
    "- model: Untrained GCN_2_hidden model\n",
    "- dataset: Dataset container \n",
    "- num_epochs: Number of iterations during training phase\n",
    "- lr (optional, default=0.01): Learning rate\n",
    "- use_val (optional, default=False): Use the validation set during training \n",
    "\n",
    "Output:\n",
    "- Trained GCN_graph_classif model"
   ]
  },
  {
   "cell_type": "markdown",
   "id": "1501efaa",
   "metadata": {},
   "source": [
    "**test_GCN_graph_classif(model, dataset)**\n",
    "\n",
    "Input:\n",
    "- model: GCN_graph_classif model\n",
    "- dataset: Dataset container \n",
    "\n",
    "Output:\n",
    "- Accuracy of the model on the test set"
   ]
  }
 ],
 "metadata": {
  "kernelspec": {
   "display_name": "Python 3 (ipykernel)",
   "language": "python",
   "name": "python3"
  },
  "language_info": {
   "codemirror_mode": {
    "name": "ipython",
    "version": 3
   },
   "file_extension": ".py",
   "mimetype": "text/x-python",
   "name": "python",
   "nbconvert_exporter": "python",
   "pygments_lexer": "ipython3",
   "version": "3.8.10"
  }
 },
 "nbformat": 4,
 "nbformat_minor": 5
}
