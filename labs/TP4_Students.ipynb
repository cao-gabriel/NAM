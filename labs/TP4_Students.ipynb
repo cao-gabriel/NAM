{
 "cells": [
  {
   "cell_type": "markdown",
   "metadata": {},
   "source": [
    "# Lab4-5 (Student version): standard graph models\n",
    "\n",
    "We can use the following libraries."
   ]
  },
  {
   "cell_type": "code",
   "execution_count": null,
   "metadata": {},
   "outputs": [],
   "source": [
    "import matplotlib.pyplot as plt\n",
    "import math\n",
    "import sys\n",
    "import random\n",
    "import copy\n",
    "print(sys.version)"
   ]
  },
  {
   "cell_type": "markdown",
   "metadata": {},
   "source": [
    "This lab work will spread over sessions 4 and 5. \n",
    "\n",
    "Session 4 should focus on making sure that the codes of previous sessions work correctly (ex.1) and on testing them on an Erdös-Rényi model (ex.2).\n",
    "\n",
    "Session 5 should focus on the two other models (ex.3 and ex.4)."
   ]
  },
  {
   "cell_type": "markdown",
   "metadata": {},
   "source": [
    "## Exercise 1: Preliminary work"
   ]
  },
  {
   "cell_type": "markdown",
   "metadata": {},
   "source": [
    "### Question 1\n",
    "\n",
    "Download the graph http://lioneltabourier.fr/documents/as_caida.txt and load it in memory as a dictionary of lists (as usual). This graph is a partial map of the Internet at the AS level as obtained using BGP tables during the CAIDA project in 2007. It will be used during the rest of this practical work. \n",
    "\n",
    "Apply the codes seen in the previous labs to:\n",
    "- count its number of nodes and links, \n",
    "- plot its degree distribution,\n",
    "- compute its number of triangles,\n",
    "- give an approximation of its diameter.\n"
   ]
  },
  {
   "cell_type": "markdown",
   "metadata": {},
   "source": [
    "## Exercise 2: Erdös-Rényi model"
   ]
  },
  {
   "cell_type": "markdown",
   "metadata": {},
   "source": [
    "### Question 2\n",
    "\n",
    "Create an Erdös-Rényi graph with the same number of nodes and links as the original graph."
   ]
  },
  {
   "cell_type": "code",
   "execution_count": null,
   "metadata": {},
   "outputs": [],
   "source": [
    "def erdos_renyi(node_count, link_count):\n",
    "    graph = {}\n",
    "    for node_index in range(node_count):\n",
    "        graph[node_index] = []\n",
    "    while link_count > 0:\n",
    "        node1, node2 = random.randint(0, node_count - 1), random.randint(0, node_count - 1)\n",
    "        if node1 != node2 and node1 not in graph[node2]:\n",
    "            graph[node1].append(node2)\n",
    "            graph[node2].append(node1)\n",
    "            link_count -= 1\n",
    "    return graph\n",
    "        "
   ]
  },
  {
   "cell_type": "code",
   "execution_count": null,
   "metadata": {},
   "outputs": [],
   "source": [
    "erdos_renyi(10,10)"
   ]
  },
  {
   "cell_type": "markdown",
   "metadata": {},
   "source": [
    "### Question 3\n",
    "\n",
    "Compare its degree distribution, its number of triangles, its approximate diameter (of the largest component) to the one of the original graph."
   ]
  },
  {
   "cell_type": "markdown",
   "metadata": {},
   "source": [
    "## Exercise 2: Barabasi-Albert model\n"
   ]
  },
  {
   "cell_type": "markdown",
   "metadata": {},
   "source": [
    "### Question 4\n",
    "\n",
    "Create a Barabasi-Albert graph with a number of links and nodes comparable to the original graph. We remind that in a BA model with $n$ nodes, the number of links $m$ is roughly equal to $\\alpha n$ where $ \\alpha $ is the parameter of the model. "
   ]
  },
  {
   "cell_type": "code",
   "execution_count": null,
   "metadata": {},
   "outputs": [],
   "source": [
    "def compute_draw_chances(graph):\n",
    "    sum_degree = 0\n",
    "    for node in graph:\n",
    "        sum_degree += len(graph[node])\n",
    "    result = {}\n",
    "    print(graph)\n",
    "    cumul = 1\n",
    "    for node in graph:\n",
    "        draw_chance = len(graph[node]) / sum_degree\n",
    "        cumul -= draw_chance\n",
    "        result[node] = cumul\n",
    "    return result\n",
    "\n",
    "def draw_node(draw_chances):\n",
    "    tmp = random.uniform(0,1)\n",
    "    for node, chance in draw_chances.items():\n",
    "        if tmp > chance:\n",
    "            return node\n",
    "def barabasi_albert(node_count, original_graph, node_degree):\n",
    "    print(original_graph)\n",
    "    graph = copy.deepcopy(original_graph)\n",
    "    node_count_init = len(graph)\n",
    "    for node1 in range(node_count_init, node_count):\n",
    "        graph[node1] = []\n",
    "        link_count = 0\n",
    "        draw_chances = compute_draw_chances(graph)\n",
    "        while link_count < node_degree:\n",
    "            tmp = random.uniform(0,1)\n",
    "            node2 = draw_node(draw_chances)\n",
    "            if node2 not in graph[node1]:\n",
    "                graph[node1].append(node2)\n",
    "                graph[node2].append(node1)\n",
    "                link_count += 1\n",
    "    return graph"
   ]
  },
  {
   "cell_type": "code",
   "execution_count": null,
   "metadata": {},
   "outputs": [],
   "source": [
    "barabasi_albert(1000, erdos_renyi(10,10), 1)"
   ]
  },
  {
   "cell_type": "markdown",
   "metadata": {},
   "source": [
    "### Question 5\n",
    "\n",
    "Compare its degree distribution, its number of triangles, its approximate diameter (of the largest component) to the one of the original graph."
   ]
  },
  {
   "cell_type": "markdown",
   "metadata": {},
   "source": [
    "## Exercise 3: Watts-Strogatz model"
   ]
  },
  {
   "cell_type": "markdown",
   "metadata": {},
   "source": [
    "### Question 6\n",
    "\n",
    "Create a regular graph with a number of nodes $n$ equals to the one of the initial CAIDA graph. We have these constraints:\n",
    "\n",
    "* all nodes of a regular graph have the same degree $k$, choose $k$ so that the number $m$ of edges is close to the one of the CAIDA graph,\n",
    "\n",
    "* each node is connected to the nodes with the closest index, for example, if $k=6$, node $i$ will be connected to nodes $ i-1 $, $ i-2 $, $ i-3$ and $ i+1 $, $ i+2 $, $ i+3 $.  "
   ]
  },
  {
   "cell_type": "code",
   "execution_count": null,
   "metadata": {},
   "outputs": [],
   "source": [
    "def regular(node_count, degree):\n",
    "    graph = {}\n",
    "    for node1 in range(node_count):\n",
    "        graph[node1] = [node2 %  node_count for node2 in range(node1 - degree // 2, node1 + degree // 2 + 1)]\n",
    "        graph[node1].remove(node1)\n",
    "        if degree % 2 != 0:\n",
    "            graph[node1].append((node1 + degree //2 + 1) % node_count)\n",
    "    return graph"
   ]
  },
  {
   "cell_type": "code",
   "execution_count": null,
   "metadata": {},
   "outputs": [],
   "source": [
    "regular(10,6)"
   ]
  },
  {
   "cell_type": "markdown",
   "metadata": {},
   "source": [
    "### Question 7\n",
    "\n",
    "Starting from the graph created in the previous question, generate Watts-Strogatz models with several values of the parameter $p$: 0.01, 0.1, 0.3."
   ]
  },
  {
   "cell_type": "code",
   "execution_count": null,
   "metadata": {},
   "outputs": [],
   "source": [
    "def draw_except(nodes, node):\n",
    "    output = node\n",
    "    while output == node:\n",
    "        output = random.choice(nodes)\n",
    "    return output\n",
    "    \n",
    "\n",
    "def watts_strogatz(regular_graph, rewiring_proba):\n",
    "    graph = copy.deepcopy(regular_graph)\n",
    "    nodes = list(regular_graph.keys())\n",
    "    for node1 in regular_graph:\n",
    "        for node2 in regular_graph[node1]:\n",
    "            if node1 < node2:\n",
    "                while True:\n",
    "                    nnode1, nnode2 = node1, node2\n",
    "                    if random.uniform(0,1) < rewiring_proba:\n",
    "                        nnode1 = draw_except(nodes, node1)\n",
    "                    if random.uniform(0,1) < rewiring_proba:\n",
    "                        nnode2 = draw_except(nodes, node2)\n",
    "                    if nnode1 != nnode2 and nnode1 not in graph[nnode2]:\n",
    "                        graph[node1].remove(node2)\n",
    "                        graph[node2].remove(node1)\n",
    "                        graph[nnode1].append(nnode2)\n",
    "                        graph[nnode2].append(nnode1)\n",
    "                        break\n",
    "                    if nnode1 == node1 and nnode2 == node2:\n",
    "                        break\n",
    "\n",
    "    return graph        "
   ]
  },
  {
   "cell_type": "code",
   "execution_count": null,
   "metadata": {},
   "outputs": [],
   "source": [
    "watts_strogatz(regular(10,6), 0.3)"
   ]
  },
  {
   "cell_type": "markdown",
   "metadata": {},
   "source": [
    "### Question 8\n",
    "\n",
    "Compare their degree distribution, their number of triangles, their approximate diameter (of the largest component) to the one of the original graph."
   ]
  }
 ],
 "metadata": {
  "kernelspec": {
   "display_name": "Python 3 (ipykernel)",
   "language": "python",
   "name": "python3"
  },
  "language_info": {
   "codemirror_mode": {
    "name": "ipython",
    "version": 3
   },
   "file_extension": ".py",
   "mimetype": "text/x-python",
   "name": "python",
   "nbconvert_exporter": "python",
   "pygments_lexer": "ipython3",
   "version": "3.8.10"
  }
 },
 "nbformat": 4,
 "nbformat_minor": 2
}
