{
 "cells": [
  {
   "cell_type": "markdown",
   "metadata": {},
   "source": [
    "# TP1 (Student version)\n",
    "\n",
    "We can use the following libraries."
   ]
  },
  {
   "cell_type": "code",
   "execution_count": null,
   "metadata": {},
   "outputs": [],
   "source": [
    "import matplotlib.pyplot as plt\n",
    "import math\n",
    "import sys\n",
    "import json\n",
    "path = \"graphs/\"\n",
    "amazon = path + \"com-amazon.ungraph.txt\"\n",
    "lj = path + \"com-lj.ungraph.txt\"\n",
    "core = path + \"email-Eu-core.txt\"\n",
    "ebel = path + \"email_data_ebel.txt\""
   ]
  },
  {
   "cell_type": "markdown",
   "metadata": {},
   "source": [
    "## Exercise 1: get things started"
   ]
  },
  {
   "cell_type": "markdown",
   "metadata": {},
   "source": [
    "### Question 1\n",
    "\n",
    "Create manually a few graphs (with approximately a dozen nodes) and store them in the format (for each line):\n",
    "\n",
    "x y \n",
    "\n",
    "You will use them to test your codes."
   ]
  },
  {
   "cell_type": "markdown",
   "metadata": {},
   "source": [
    "### Question 2\n",
    "\n",
    "Download the following graphs:\n",
    "\n",
    "http://snap.stanford.edu/data/email-Eu-core.html\n",
    "\n",
    "http://snap.stanford.edu/data/com-Amazon.html\n",
    "\n",
    "http://snap.stanford.edu/data/com-LiveJournal.html\n",
    "\n",
    "Also, download the graph email_data_ebel.txt from http://lioneltabourier.fr/teaching_en.html\n",
    "\n",
    "All these graphs allow you to check the results of your programs.\n"
   ]
  },
  {
   "cell_type": "markdown",
   "metadata": {},
   "source": [
    "### Question 3\n",
    "\n",
    "Make a program which reads a graph from a text file and counts the number of nodes and edges in a graph (without storing it in memory). If a same link appears several times, it will be counted as many times."
   ]
  },
  {
   "cell_type": "code",
   "execution_count": null,
   "metadata": {},
   "outputs": [],
   "source": [
    "def node_link(file_name):\n",
    "    '''\n",
    "    node_link(file_name)\n",
    "    \n",
    "    Returns the number of edges and the number of nodes in the graph stored in 'file_name'\n",
    "        Parameters:\n",
    "            file_name(string) : the name of the file storing the graph\n",
    "        Returns:\n",
    "            node_count, link_count (int, int) : a tuple containing the number of nodes and the number of links in \n",
    "            the graph\n",
    "    '''\n",
    "    node_set = set()\n",
    "    node_count = 0\n",
    "    link_count = 0\n",
    "    with open(file_name, \"r\") as my_file:\n",
    "        for line in my_file:\n",
    "            if line[0] != \"#\": # supposing that comments start with a '#' symbol\n",
    "                line = line.split() # supposing a space between two nodes\n",
    "                node1 = int(line[0]) # supposing that nodes are numbers formated in file\n",
    "                node2 = int(line[1])\n",
    "                link_count += 1 # if a same link appears several times, it will be counted as many times\n",
    "                if node1 not in node_set:\n",
    "                    node_set.add(node1)\n",
    "                    node_count += 1\n",
    "                if node2 not in node_set:\n",
    "                    node_set.add(node2)\n",
    "                    node_count +=1  \n",
    "    return node_count, link_count\n"
   ]
  },
  {
   "cell_type": "code",
   "execution_count": null,
   "metadata": {},
   "outputs": [],
   "source": [
    "if __name__ == '__main__'  and '__file__' not in globals():\n",
    "    node_count, link_count = node_link(f\"{core}\") # should be 1005 nodes, 25571 links\n",
    "    print(f\"Node : {node_count}, Link : {link_count}\")"
   ]
  },
  {
   "cell_type": "code",
   "execution_count": null,
   "metadata": {},
   "outputs": [],
   "source": [
    "if __name__ == '__main__'  and '__file__' not in globals():\n",
    "    node_count, link_count = node_link(f\"{amazon}\") # should be 334863 nodes , 925872 links\n",
    "    print(f\"Node : {node_count}, Link : {link_count}\")"
   ]
  },
  {
   "cell_type": "code",
   "execution_count": null,
   "metadata": {},
   "outputs": [],
   "source": [
    "if __name__ == '__main__'  and '__file__' not in globals():\n",
    "    node_count, link_count = node_link(f\"{lj}\") # should be 3997962 nodes and 34681189 links\n",
    "    print(f\"Node : {node_count}, Link : {link_count}\")"
   ]
  },
  {
   "cell_type": "markdown",
   "metadata": {},
   "source": [
    "### Question 4\n",
    "\n",
    "Make a program which counts the degree (i.e. the number of edges) of a node of a graph (without storing it in memory). If a same link appears several times, it will increase the degree by as many times. In case of a self-loop, the degree is increased once."
   ]
  },
  {
   "cell_type": "code",
   "execution_count": null,
   "metadata": {},
   "outputs": [],
   "source": [
    "def degree(file_name, my_node):\n",
    "    '''\n",
    "    degree(file_name, my_node)\n",
    "    \n",
    "    Returns the degree of the node 'my_node' in the graph stored in 'file_name'\n",
    "        Parameters:\n",
    "            file_name (string) : the name of the file that stores the graph\n",
    "            my_node (integer) : the node which degree will be computed\n",
    "        Returns:\n",
    "            my_degree (integer) : the degree of the node 'my_node'\n",
    "    '''\n",
    "    my_degree = 0\n",
    "    with open(file_name, \"r\") as my_file:\n",
    "        for line in my_file:\n",
    "            if line[0] != \"#\":\n",
    "                line = line.split()\n",
    "                node1 = int(line[0])\n",
    "                node2 = int(line[1])\n",
    "                if node1 == my_node:\n",
    "                    my_degree += 1\n",
    "                if node2 != node1 and node2 == my_node: # self loop degree increased once and same link appearance counted\n",
    "                    my_degree += 1\n",
    "    return my_degree             \n"
   ]
  },
  {
   "cell_type": "code",
   "execution_count": null,
   "metadata": {},
   "outputs": [],
   "source": [
    "if __name__ == '__main__' and '__file__' not in globals() :\n",
    "    my_degree = degree(core, 1) \n",
    "    print(f\"Degree : {my_degree}\")"
   ]
  },
  {
   "cell_type": "code",
   "execution_count": null,
   "metadata": {},
   "outputs": [],
   "source": [
    "if __name__ == '__main__'  and '__file__' not in globals():\n",
    "    my_degree = degree(amazon, 1) \n",
    "    print(f\"Degree : {my_degree}\")"
   ]
  },
  {
   "cell_type": "code",
   "execution_count": null,
   "metadata": {},
   "outputs": [],
   "source": [
    "if __name__ == '__main__'  and '__file__' not in globals():\n",
    "    my_degree = degree(lj, 1) \n",
    "    print(f\"Degree : {my_degree}\")"
   ]
  },
  {
   "cell_type": "markdown",
   "metadata": {},
   "source": [
    "## Exercise 2: loading a graph in memory"
   ]
  },
  {
   "cell_type": "markdown",
   "metadata": {},
   "source": [
    "### Question 5\n",
    "\n",
    "Make a program which reads a graph from a text file and load it as a python dictionary of lists. \n",
    "This implementation of the adjacency list format will be the standard format that we will use to store a graph in this course."
   ]
  },
  {
   "cell_type": "code",
   "execution_count": null,
   "metadata": {},
   "outputs": [],
   "source": [
    "def add_link(my_link, my_graph):\n",
    "    '''\n",
    "    add_link((node1, node2), my_graph)\n",
    "    \n",
    "    Add the link ('node1', 'node2') in the graph 'my_graph'\n",
    "        Parameters:\n",
    "            (node1, node2) (int, int) : the link  that will be added\n",
    "            my_graph (dictionary of lists) : the graph that will contain the link\n",
    "        Returns:    \n",
    "    '''\n",
    "    node1, node2 = my_link\n",
    "    if node1 in my_graph:\n",
    "        my_graph[node1].append(node2)\n",
    "    else:\n",
    "        my_graph[node1] = [node2]\n",
    "    if node2 in my_graph:\n",
    "        my_graph[node2].append(node1)\n",
    "    else:\n",
    "        my_graph[node2] = [node1]\n",
    "    return\n",
    "def load_graph(file_name):\n",
    "    '''\n",
    "    load_graph(file_name)\n",
    "    \n",
    "    Load a graph from a text file in memory as a dictionary of lists\n",
    "        Parameters:\n",
    "            file_name (string) : the name of the file storing the graph\n",
    "        Returns:\n",
    "            my_graph (dictionary of lists) : the graph from 'file_name' stored in the memory as a dictionary of lists the keys of the dictionary are the nodes and the values are the neighbour of the nodes\n",
    "    '''\n",
    "    my_graph = {}\n",
    "    with open(file_name, \"r\") as my_file:\n",
    "        for line in my_file:\n",
    "            if line[0] != \"#\":\n",
    "                line = line.split()\n",
    "                node1 = int(line[0])\n",
    "                node2 = int(line[1])\n",
    "                add_link((node1, node2), my_graph)\n",
    "    return my_graph        \n",
    "                \n",
    "    "
   ]
  },
  {
   "cell_type": "code",
   "execution_count": null,
   "metadata": {},
   "outputs": [],
   "source": [
    "if __name__ == '__main__'  and '__file__' not in globals():\n",
    "    core_graph = load_graph(core)\n",
    "    print(json.dumps(core_graph, indent = 4))"
   ]
  },
  {
   "cell_type": "markdown",
   "metadata": {},
   "source": [
    "### Question 6\n",
    "\n",
    "Make a program that deletes the self-loops and duplicated edges existing in the graph and writes it in a new text file. "
   ]
  },
  {
   "cell_type": "code",
   "execution_count": null,
   "metadata": {},
   "outputs": [],
   "source": [
    "def load_clean_graph(input_name, output_name = None):\n",
    "    '''\n",
    "    load_clean_graph(input_name, output_name = None)\n",
    "    \n",
    "    Delete self-loops and duplicated edges existing in the graph and writes it in a new test file\"\n",
    "        Parameters:\n",
    "            input_name (string) : name of the file storing the graph with self loops and duplicated edges\n",
    "            output_name (string) (optional) : name of the file that will store the graph without self \n",
    "            loops and duplicated edges. If no output is defined the new graph will not be stored in a file\n",
    "        Returns:\n",
    "            my_graph (dictionary of lists) : the graph without self loops and duplicated edges\n",
    "    '''\n",
    "    my_graph = {}\n",
    "    if output_name is not None:\n",
    "        output_file = open(output_name, \"w\")\n",
    "    with open(input_name, \"r\") as input_file:\n",
    "        for line in input_file:\n",
    "\n",
    "            if line[0] != \"#\":\n",
    "                line = line.split()\n",
    "                node1 = int(line[0])\n",
    "                node2 = int(line[1])\n",
    "                if node1 != node2:\n",
    "                    if node1 in my_graph:\n",
    "                        if node2 not in my_graph[node1]:\n",
    "                            my_graph[node1].append(node2)\n",
    "                            if output_name is not None:\n",
    "                                output_file.write(f\"{node1} {node2}\\n\")\n",
    "                    else:\n",
    "                        my_graph[node1] = [node2]\n",
    "                    if node2 in my_graph:\n",
    "                        if node1 not in my_graph[node2]:\n",
    "                            my_graph[node2].append(node1)\n",
    "                            if output_name is not None:\n",
    "                                output_file.write(f\"{node2} {node1}\\n\")\n",
    "                    else:\n",
    "                        my_graph[node2] = [node1]\n",
    "    if output_name is not None:\n",
    "        output_file.close()\n",
    "    return my_graph\n",
    "    "
   ]
  },
  {
   "cell_type": "code",
   "execution_count": null,
   "metadata": {},
   "outputs": [],
   "source": [
    "if __name__ == '__main__'  and '__file__' not in globals():\n",
    "    print(json.dumps(load_clean_graph(core), indent = 4))"
   ]
  },
  {
   "cell_type": "markdown",
   "metadata": {},
   "source": [
    "### Question 7\n",
    "\n",
    "Try the data structure of Question 5 on various graphs downloaded in Question 2. Conclude on the scalability (what graph size can you handle with this data structure)."
   ]
  },
  {
   "cell_type": "markdown",
   "metadata": {},
   "source": [
    "## Exercise 3: degree distribution"
   ]
  },
  {
   "cell_type": "markdown",
   "metadata": {},
   "source": [
    "### Question 8\n",
    "Create a program which computes the degree distribution of a graph, store it in a python dictionary of the form:\n",
    "\n",
    "deg: number of occurrences"
   ]
  },
  {
   "cell_type": "code",
   "execution_count": null,
   "metadata": {},
   "outputs": [],
   "source": [
    "def degree_dist(my_graph):\n",
    "    '''\n",
    "    degree_dist(my_graph)\n",
    "    \n",
    "    Computes the degree distribution of a graph\n",
    "        Parameters:\n",
    "            my_graph (dictionary of lists)\n",
    "        Returns:\n",
    "            my_degree_dist (dictionary) : a dictionary wich key are the degrees that appear in the graph and \n",
    "            the values are the number of occurences\n",
    "    '''\n",
    "    my_degree_dist = {}\n",
    "    for node in my_graph:\n",
    "        node_degree = len(my_graph[node])\n",
    "        if node_degree in my_degree_dist:\n",
    "            my_degree_dist[node_degree] += 1\n",
    "        else:\n",
    "            my_degree_dist[node_degree] = 1\n",
    "    return my_degree_dist"
   ]
  },
  {
   "cell_type": "code",
   "execution_count": null,
   "metadata": {},
   "outputs": [],
   "source": [
    "if __name__ == '__main__'  and '__file__' not in globals():\n",
    "    degree_dist(load_clean_graph(core))"
   ]
  },
  {
   "cell_type": "markdown",
   "metadata": {},
   "source": [
    "### Question 9\n",
    "\n",
    "Plot the degree distribution in log scale (using matplotlib for example)."
   ]
  },
  {
   "cell_type": "code",
   "execution_count": null,
   "metadata": {},
   "outputs": [],
   "source": [
    "def plot_degree_dist(my_graph, log = True, limits = (0.5, 10000, 0.5, 10000), my_label = \"Label\"):\n",
    "    '''\n",
    "    plot_degree_dist(my_graph)\n",
    "    \n",
    "    Plot the degree distribution in log scale\n",
    "        Parameters:\n",
    "            my_graph (dictionary of lists)\n",
    "            log (boolean) (default = True): Plotting the graph with a axis in log scale\n",
    "            limits (int, int, int, int) (default = (0.5,10000,0.5,10000)) : the limits of the plot with the following format (xmin, xmax, ymin, ymax)\n",
    "        Returns\n",
    "    '''\n",
    "    my_degree_dist = degree_dist(my_graph)\n",
    "    xmin, xmax, ymin, ymax = limits\n",
    "    if log:\n",
    "        plt.xscale('log')\n",
    "        plt.yscale('log')\n",
    "        plt.xlim([xmin, xmax])\n",
    "        plt.ylim([ymin, ymax])\n",
    "    \n",
    "    plt.scatter(my_degree_dist.keys(), my_degree_dist.values(), label = my_label)\n",
    "    plt.legend()"
   ]
  },
  {
   "cell_type": "code",
   "execution_count": null,
   "metadata": {},
   "outputs": [],
   "source": [
    "if __name__ == '__main__'  and '__file__' not in globals():\n",
    "\n",
    "    plot_degree_dist(load_clean_graph(ebel), True)"
   ]
  },
  {
   "cell_type": "code",
   "execution_count": null,
   "metadata": {},
   "outputs": [],
   "source": [
    "if __name__ == '__main__'  and '__file__' not in globals():\n",
    "    plot_degree_dist(load_clean_graph(core))"
   ]
  },
  {
   "cell_type": "code",
   "execution_count": null,
   "metadata": {},
   "outputs": [],
   "source": [
    "if __name__ == '__main__'  and '__file__' not in globals():\n",
    "\n",
    "    plot_degree_dist(load_clean_graph(amazon) )"
   ]
  },
  {
   "cell_type": "code",
   "execution_count": null,
   "metadata": {},
   "outputs": [],
   "source": []
  }
 ],
 "metadata": {
  "kernelspec": {
   "display_name": "Python 3 (ipykernel)",
   "language": "python",
   "name": "python3"
  },
  "language_info": {
   "codemirror_mode": {
    "name": "ipython",
    "version": 3
   },
   "file_extension": ".py",
   "mimetype": "text/x-python",
   "name": "python",
   "nbconvert_exporter": "python",
   "pygments_lexer": "ipython3",
   "version": "3.8.8"
  }
 },
 "nbformat": 4,
 "nbformat_minor": 2
}
