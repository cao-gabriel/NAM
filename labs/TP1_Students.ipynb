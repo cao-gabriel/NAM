{
 "cells": [
  {
   "cell_type": "markdown",
   "metadata": {},
   "source": [
    "# TP1 (Student version)\n",
    "\n",
    "We can use the following libraries."
   ]
  },
  {
   "cell_type": "code",
   "execution_count": null,
   "metadata": {},
   "outputs": [],
   "source": [
    "import matplotlib.pyplot as plt\n",
    "import math\n",
    "import sys\n",
    "import json\n",
    "print(sys.version)"
   ]
  },
  {
   "cell_type": "markdown",
   "metadata": {},
   "source": [
    "## Exercise 1: get things started"
   ]
  },
  {
   "cell_type": "markdown",
   "metadata": {},
   "source": [
    "### Question 1\n",
    "\n",
    "Create manually a few graphs (with approximately a dozen nodes) and store them in the format (for each line):\n",
    "\n",
    "x y \n",
    "\n",
    "You will use them to test your codes."
   ]
  },
  {
   "cell_type": "code",
   "execution_count": null,
   "metadata": {},
   "outputs": [],
   "source": []
  },
  {
   "cell_type": "markdown",
   "metadata": {},
   "source": [
    "### Question 2\n",
    "\n",
    "Download the following graphs:\n",
    "\n",
    "http://snap.stanford.edu/data/email-Eu-core.html\n",
    "\n",
    "http://snap.stanford.edu/data/com-Amazon.html\n",
    "\n",
    "http://snap.stanford.edu/data/com-LiveJournal.html\n",
    "\n",
    "Also, download the graph email_data_ebel.txt from http://lioneltabourier.fr/teaching_en.html\n",
    "\n",
    "All these graphs allow you to check the results of your programs.\n"
   ]
  },
  {
   "cell_type": "markdown",
   "metadata": {},
   "source": [
    "### Question 3\n",
    "\n",
    "Make a program which reads a graph from a text file and counts the number of nodes and edges in a graph (without storing it in memory). If a same link appears several times, it will be counted as many times."
   ]
  },
  {
   "cell_type": "code",
   "execution_count": null,
   "metadata": {},
   "outputs": [],
   "source": [
    "def count_node_link(file_name):\n",
    "    nodes, count_nodes, count_edges = set(), 0, 0\n",
    "    with open(file_name, \"r\") as graph_file:\n",
    "        for line in graph_file:\n",
    "            node1, node2 = [int(node) for node in line.split()]\n",
    "            if node1 not in nodes:\n",
    "                count_nodes += 1\n",
    "                nodes.add(node1)\n",
    "            if node2 not in nodes:\n",
    "                count_nodes += 1\n",
    "                nodes.add(node2)\n",
    "            count_edges += 1\n",
    "    return count_nodes, count_edges"
   ]
  },
  {
   "cell_type": "code",
   "execution_count": null,
   "metadata": {},
   "outputs": [],
   "source": [
    "print(count_node_link(\"res/email-Eu-core.txt\"))"
   ]
  },
  {
   "cell_type": "markdown",
   "metadata": {},
   "source": [
    "### Question 4\n",
    "\n",
    "Make a program which counts the degree (i.e. the number of edges) of a node of a graph (without storing it in memory). If a same link appears several times, it will increase the degree by as many times. In case of a self-loop, the degree is increased once."
   ]
  },
  {
   "cell_type": "code",
   "execution_count": null,
   "metadata": {},
   "outputs": [],
   "source": [
    "def compute_degree(file_name, node):\n",
    "    degree = 0\n",
    "    with open(file_name, \"r\") as graph_file:\n",
    "        for line in graph_file:\n",
    "            node1, node2 = [int(node) for node in line.split()]\n",
    "            if node1 == node:\n",
    "                degree += 1\n",
    "            if node2 == node and node2 != node1:\n",
    "                degree +=1\n",
    "    return degree"
   ]
  },
  {
   "cell_type": "code",
   "execution_count": null,
   "metadata": {},
   "outputs": [],
   "source": [
    "print(compute_degree(\"res/email-Eu-core.txt\", 1))"
   ]
  },
  {
   "cell_type": "markdown",
   "metadata": {},
   "source": [
    "## Exercise 2: loading a graph in memory"
   ]
  },
  {
   "cell_type": "markdown",
   "metadata": {},
   "source": [
    "### Question 5\n",
    "\n",
    "Make a program which reads a graph from a text file and load it as a python dictionary of lists. \n",
    "This implementation of the adjacency list format will be the standard format that we will use to store a graph in this course."
   ]
  },
  {
   "cell_type": "code",
   "execution_count": null,
   "metadata": {},
   "outputs": [],
   "source": [
    "def graph_from_file(file_name):\n",
    "    graph = {}\n",
    "    with open(file_name, \"r\") as graph_file:\n",
    "        for line in graph_file:\n",
    "            node1, node2 = [int(node) for node in line.split()]\n",
    "            if node1 not in graph:\n",
    "                graph[node1] = []\n",
    "            graph[node1].append(node2)\n",
    "            if node2 not in graph:\n",
    "                graph[node2]= []\n",
    "            graph[node2].append(node1)\n",
    "    return graph\n",
    "    "
   ]
  },
  {
   "cell_type": "code",
   "execution_count": null,
   "metadata": {},
   "outputs": [],
   "source": [
    "print(json.dumps(graph_from_file(\"res/email-Eu-core.txt\"), indent = 4))"
   ]
  },
  {
   "cell_type": "markdown",
   "metadata": {},
   "source": [
    "### Question 6\n",
    "\n",
    "Make a program that deletes the self-loops and duplicated edges existing in the graph and writes it in a new text file. "
   ]
  },
  {
   "cell_type": "code",
   "execution_count": null,
   "metadata": {},
   "outputs": [],
   "source": [
    "def remove_loop_dupes(graph):\n",
    "    for node in graph:\n",
    "        graph[node] = list(dict.fromkeys(graph[node]))\n",
    "        try:\n",
    "            graph[node].remove(node)\n",
    "        except ValueError:\n",
    "            pass\n",
    "def graph_to_file(graph, file_name):\n",
    "    with open(file_name, \"w\") as graph_file:\n",
    "        for node1 in graph:\n",
    "            for node2 in graph[node1]:\n",
    "                graph_file.write(\"{} {}\\n\".format(node1, node2))\n",
    "                "
   ]
  },
  {
   "cell_type": "code",
   "execution_count": null,
   "metadata": {},
   "outputs": [],
   "source": [
    "email_graph = graph_from_file(\"res/email-Eu-core.txt\")\n",
    "remove_loop_dupes(email_graph)\n",
    "graph_to_file(email_graph, \"output/test.txt\")"
   ]
  },
  {
   "cell_type": "markdown",
   "metadata": {},
   "source": [
    "### Question 7\n",
    "\n",
    "Try the data structure of Question 5 on various graphs downloaded in Question 2. Conclude on the scalability (what graph size can you handle with this data structure)."
   ]
  },
  {
   "cell_type": "markdown",
   "metadata": {},
   "source": [
    "## Exercise 3: degree distribution"
   ]
  },
  {
   "cell_type": "markdown",
   "metadata": {},
   "source": [
    "### Question 8\n",
    "Create a program which computes the degree distribution of a graph, store it in a python dictionary of the form:\n",
    "\n",
    "deg: number of occurrences"
   ]
  },
  {
   "cell_type": "code",
   "execution_count": null,
   "metadata": {},
   "outputs": [],
   "source": [
    "def compute_degree_dist(graph):\n",
    "    degree_dist = {}\n",
    "    for node in graph:\n",
    "        degree = len(graph[node])\n",
    "        if degree not in degree_dist:\n",
    "            degree_dist[degree] = 0\n",
    "        degree_dist[degree] += 1\n",
    "    return degree_dist"
   ]
  },
  {
   "cell_type": "raw",
   "metadata": {},
   "source": [
    "compute_degree_dist(graph_from_file(\"res/email-Eu-core.txt\"))"
   ]
  },
  {
   "cell_type": "markdown",
   "metadata": {},
   "source": [
    "### Question 9\n",
    "\n",
    "Plot the degree distribution in log scale (using matplotlib for example)."
   ]
  },
  {
   "cell_type": "code",
   "execution_count": null,
   "metadata": {},
   "outputs": [],
   "source": [
    "def plot_degree_dist(graph, log=True):\n",
    "    if log:\n",
    "        plt.yscale(\"log\")\n",
    "        plt.xscale(\"log\")\n",
    "    degree_dist = compute_degree_dist(graph)\n",
    "    plt.scatter(degree_dist.keys(), degree_dist.values())"
   ]
  },
  {
   "cell_type": "code",
   "execution_count": null,
   "metadata": {},
   "outputs": [],
   "source": [
    "plot_degree_dist(graph_from_file(\"res/email-Eu-core.txt\"))"
   ]
  },
  {
   "cell_type": "code",
   "execution_count": null,
   "metadata": {},
   "outputs": [],
   "source": []
  }
 ],
 "metadata": {
  "kernelspec": {
   "display_name": "Python 3 (ipykernel)",
   "language": "python",
   "name": "python3"
  },
  "language_info": {
   "codemirror_mode": {
    "name": "ipython",
    "version": 3
   },
   "file_extension": ".py",
   "mimetype": "text/x-python",
   "name": "python",
   "nbconvert_exporter": "python",
   "pygments_lexer": "ipython3",
   "version": "3.8.10"
  }
 },
 "nbformat": 4,
 "nbformat_minor": 2
}
