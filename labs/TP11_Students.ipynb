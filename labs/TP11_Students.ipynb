{
 "cells": [
  {
   "cell_type": "markdown",
   "metadata": {},
   "source": [
    "# TP11 (Student version): Pagerank\n",
    "\n",
    "We can use the following libraries."
   ]
  },
  {
   "cell_type": "code",
   "execution_count": null,
   "metadata": {},
   "outputs": [],
   "source": [
    "import matplotlib.pyplot as plt\n",
    "import math\n",
    "import sys\n",
    "import random\n",
    "import time\n",
    "import copy\n",
    "from json import dumps\n",
    "print(sys.version)"
   ]
  },
  {
   "cell_type": "markdown",
   "metadata": {},
   "source": [
    "## Exercise 1: preliminary questions"
   ]
  },
  {
   "cell_type": "markdown",
   "metadata": {},
   "source": [
    "In this TP, we will use the graph http://lioneltabourier.fr/documents/wiki_2009.txt. It is a subpart of the English language Wikipedia collected in 2009. A link represent a hyperlink from a page to another.\n",
    "\n",
    "**Warning:** it is a directed graph, so in this case a line\n",
    "\n",
    "12 126\n",
    "\n",
    "means that there is a directed link from node 12 to node 126, but not necessarily in the other direction!\n",
    "\n",
    "For your information, we indicate that this network has\n",
    "\n",
    "- 50988 nodes\n",
    "\n",
    "- 1778125 directed links"
   ]
  },
  {
   "cell_type": "markdown",
   "metadata": {},
   "source": [
    "### Question 1\n",
    "\n",
    "Load the graph in memory, in the adjacency list format, **for both the list of predecessors and the list of successors**. \n",
    "\n",
    "Check its number of nodes and of directed links. "
   ]
  },
  {
   "cell_type": "code",
   "execution_count": null,
   "metadata": {},
   "outputs": [],
   "source": [
    "def load_graph(graph_file):\n",
    "    predecessors, successors = {}, {}\n",
    "    with open(graph_file, \"r\") as file:\n",
    "        for line in file:\n",
    "            node1, node2 = [int(a) for a in line.split()]\n",
    "            if node1 not in successors:\n",
    "                successors[node1] = []\n",
    "            successors[node1].append(node2)\n",
    "            if node2 not in predecessors:\n",
    "                predecessors[node2] = []\n",
    "            predecessors[node2].append(node1)\n",
    "    return predecessors, successors\n",
    "\n",
    "def count_node(graph):\n",
    "    return len(graph)\n",
    "def count_link(graph):\n",
    "    count = 0\n",
    "    for node in graph:\n",
    "        count += len(graph[node])\n",
    "    return count"
   ]
  },
  {
   "cell_type": "code",
   "execution_count": null,
   "metadata": {},
   "outputs": [],
   "source": [
    "graph_file_path = \"res/wiki_2009.txt\"\n",
    "predecessors, successors = load_graph(graph_file_path)\n",
    "\n",
    "print(\"Nombre de noeuds dans predecessors : {}\".format(count_node(predecessors)))\n",
    "print(\"Nombre de noeuds dans successors : {}\".format(count_node(successors)))\n",
    "print(\"Nombre de liens dans predecessors : {}\".format(count_link(predecessors)))\n",
    "print(\"Nombre de liens dans successors : {}\".format(count_link(successors)))\n",
    "print(\"Nombre de noeuds total : {}\".format(len(set(predecessors.keys()).union(set(successors.keys())))))\n"
   ]
  },
  {
   "cell_type": "markdown",
   "metadata": {},
   "source": [
    "\n",
    "We remind you that the transition matrix $T$ is defined like this: if there is a link from $u$ to $v$ then $T[u][v] = \\frac{1}{d_{out}(u)}$ where $d_{out}(u)$ is the out-degree of $u$ and otherwise  $T[u][v] = 0$.\n",
    "\n",
    "Note that it is not possible to store $T$ in memory as a $ n \\times n $ matrix, it would take too much memory. So instead of explicitly computing a matrix $T$, we use the adjacency lists of the graph (lists of predecessors, lists of successors) in this way: \n",
    "\n",
    "- from the list of successors, we store the outdegree ($ d_{out}$) of the nodes in a dedicated dictionary,\n",
    "\n",
    "- we use that a node $v$ receive PageRank from node $u$ if and only if $u$ is a predecessor of $v$.\n"
   ]
  },
  {
   "cell_type": "markdown",
   "metadata": {},
   "source": [
    "### Question 2\n",
    "\n",
    "Create a dictionary that contains the out-degree of each node. Note that to avoid problems later, you should give the out-degree of all the nodes if the network, even if it is $0$. "
   ]
  },
  {
   "cell_type": "code",
   "execution_count": null,
   "metadata": {},
   "outputs": [],
   "source": [
    "def out_degrees(predecessors, successors):\n",
    "    my_out_degree = {}\n",
    "    for node in predecessors: # out-degree of node that may not exist in successors\n",
    "        my_out_degree[node] = 0\n",
    "    for node in successors: # out-degree of node that have successors\n",
    "        my_out_degree[node] = len(successors[node])\n",
    "    return my_out_degree \n",
    "        "
   ]
  },
  {
   "cell_type": "code",
   "execution_count": null,
   "metadata": {},
   "outputs": [],
   "source": [
    "my_out_degrees = out_degrees(predecessors, successors)\n",
    "print(dumps(my_out_degrees, indent = 4))"
   ]
  },
  {
   "cell_type": "markdown",
   "metadata": {},
   "source": [
    "### Question 3\n",
    "\n",
    "Using the previous questions, implement a basic power iteration (for the moment, it is not a complete PageRank algorithm). \n",
    "\n",
    "The principle is to iterate $t$ times the matrix product:\n",
    "\n",
    "$$ X \\leftarrow T.X $$\n",
    "\n",
    "$X$ is a vector initialized to $ [\\frac{1}{n} \\ldots \\frac{1}{n}]$ and $T$ is the transition matrix. We strongly advise you to store $X$ as a dictionary of float.\n",
    "\n",
    "Run the power iteration for $ t=10 $ steps and measure at each step the value of $ ||X||_1 = \\sum _i |X[i]| $.\n",
    "What do you observe? Can you explain in one sentence?"
   ]
  },
  {
   "cell_type": "code",
   "execution_count": null,
   "metadata": {},
   "outputs": [],
   "source": [
    "def init_vector(predecessors, successsors):\n",
    "    x = {}\n",
    "    for node in predecessors:\n",
    "        x[node] = 0\n",
    "    for node in successsors:\n",
    "        x[node] = 0\n",
    "    count = len(x)\n",
    "    for node in x:\n",
    "        x[node] = 1 / count\n",
    "    return x\n",
    "    \n",
    "def power_iteration(my_out_degrees, predecessors, x):\n",
    "    new_x = {}\n",
    "    for node in x:\n",
    "        new_x[node] = 0\n",
    "        if node in predecessors: # those without predecessors wont have anithing at the end\n",
    "            for node_pred in predecessors[node]:\n",
    "                new_x[node] += x[node_pred] / my_out_degrees[node_pred]\n",
    "        else:\n",
    "            new_x[node] = 0\n",
    "    return new_x"
   ]
  },
  {
   "cell_type": "code",
   "execution_count": null,
   "metadata": {},
   "outputs": [],
   "source": [
    "predecessors, successors = load_graph(\"res/wiki_2009.txt\")\n",
    "x = init_vector(predecessors, successors)\n",
    "my_out_degrees = out_degrees(predecessors, successors)\n",
    "for t in range(10):\n",
    "    print(sum(x.values()))\n",
    "    x = power_iteration(my_out_degrees, predecessors, x)"
   ]
  },
  {
   "cell_type": "markdown",
   "metadata": {},
   "source": [
    "## Exercise 2: Pagerank with evaporation"
   ]
  },
  {
   "cell_type": "markdown",
   "metadata": {},
   "source": [
    "### Question 4\n",
    "\n",
    "Now, we improve the basic power iteration process to make a real Pagerank program, by adding a renormalization and an evaporation (or teleportation) process.\n",
    "\n",
    "So now each iteration is described by:\n",
    "\n",
    "$$ X \\leftarrow (1-s).T.X + s.I $$\n",
    "\n",
    "where $I$ is the vector $ [\\frac{1}{n} \\ldots \\frac{1}{n}]$.\n",
    "\n",
    "Implement the Pagerank alogorithm (this is Algorithm 3 in the course). Don't forget to renormalize $X$ after each step, that is to say do: $ X[i] \\leftarrow \\frac{X[i]}{||X||_1}$.\n",
    "\n",
    "Run the Pagerank for $t=10$ steps, $s=0.2$.\n",
    "\n",
    "Observe the nodes which have the top-5 pagerank values, then go and look in this document http://lioneltabourier.fr/documents/index_wiki_2009.txt to see to what Wikipedia pages they correspond. \n",
    "\n",
    "Comment your result: do you think it is surprising?"
   ]
  },
  {
   "cell_type": "code",
   "execution_count": null,
   "metadata": {},
   "outputs": [],
   "source": [
    "def pagerank(my_out_degrees, predecessors, successors, x, s = 0.2):\n",
    "    v_init = init_vector(predecessors, successors)\n",
    "    new_x = {}\n",
    "    for node in x:\n",
    "        new_x[node] = 0\n",
    "        if node in predecessors: # those without predecessors wont have anithing at the end\n",
    "            for node_pred in predecessors[node]:\n",
    "                new_x[node] += x[node_pred] / my_out_degrees[node_pred]\n",
    "        else:\n",
    "            new_x[node] = 0\n",
    "        new_x[node] = new_x[node] * (1 - s) + s * v_init[node]\n",
    "    # normalization\n",
    "    norm = sum(new_x.values())\n",
    "    for node in new_x:\n",
    "        new_x[node] /= norm\n",
    "    return new_x\n",
    "    "
   ]
  },
  {
   "cell_type": "code",
   "execution_count": null,
   "metadata": {},
   "outputs": [],
   "source": [
    "predecessors, successors = load_graph(\"res/wiki_2009.txt\")\n",
    "x = init_vector(predecessors, successors)\n",
    "my_out_degrees = out_degrees(predecessors, successors)\n",
    "s = 0.2\n",
    "steps = 10\n",
    "for t in range(steps):\n",
    "    x = pagerank(my_out_degrees, predecessors,successors, x, s)\n",
    "sorted_list = sorted(x.items(), key=lambda x: x[1], reverse=True)\n",
    "for i in range(5):\n",
    "    print(sorted_list[i])"
   ]
  },
  {
   "cell_type": "markdown",
   "metadata": {},
   "source": [
    "A travers l'algorithme, nous affectons une valeur à chaque noeud (page Wikipedia), plus cette valeur est élevé, plus cela veut dire que cette page est importante/référencé. "
   ]
  }
 ],
 "metadata": {
  "kernelspec": {
   "display_name": "Python 3 (ipykernel)",
   "language": "python",
   "name": "python3"
  },
  "language_info": {
   "codemirror_mode": {
    "name": "ipython",
    "version": 3
   },
   "file_extension": ".py",
   "mimetype": "text/x-python",
   "name": "python",
   "nbconvert_exporter": "python",
   "pygments_lexer": "ipython3",
   "version": "3.8.10"
  }
 },
 "nbformat": 4,
 "nbformat_minor": 2
}
