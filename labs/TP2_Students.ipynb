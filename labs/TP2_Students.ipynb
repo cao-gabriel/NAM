{
 "cells": [
  {
   "cell_type": "markdown",
   "metadata": {},
   "source": [
    "# Lab2 (Student version)"
   ]
  },
  {
   "cell_type": "code",
   "execution_count": null,
   "metadata": {},
   "outputs": [],
   "source": [
    "import random\n",
    "import matplotlib.pyplot as plt\n",
    "import sys\n",
    "import time"
   ]
  },
  {
   "cell_type": "code",
   "execution_count": null,
   "metadata": {},
   "outputs": [],
   "source": [
    "path = \"graphs/\"\n",
    "amazon = path + \"com-amazon.ungraph.txt\"\n",
    "lj = path + \"com-lj.ungraph.txt\"\n",
    "core = path + \"email-Eu-core.txt\""
   ]
  },
  {
   "cell_type": "markdown",
   "metadata": {},
   "source": [
    "Download the three following graphs:\n",
    "- http://snap.stanford.edu/data/email-Eu-core.html\n",
    "- http://snap.stanford.edu/data/com-Amazon.html\n",
    "- http://snap.stanford.edu/data/com-LiveJournal.html\n",
    "\n",
    "It is also useful to consider some toy graphs (e.g. manually created graphs with a dozen nodes) to test your programs."
   ]
  },
  {
   "cell_type": "markdown",
   "metadata": {},
   "source": [
    "## Exercise 0: preliminaries\n",
    "\n",
    "Using the codes of Lab1, load the graphs in memory as dictionary of lists and check their number of nodes and links."
   ]
  },
  {
   "cell_type": "code",
   "execution_count": null,
   "metadata": {},
   "outputs": [],
   "source": [
    "# Importing the functions of first TP\n",
    "def node_link(file_name):\n",
    "    '''\n",
    "    node_link(file_name)\n",
    "    \n",
    "    Returns the number of edges and the number of nodes in the graph stored in 'file_name'\n",
    "        Parameters:\n",
    "            file_name(string) : the name of the file storing the graph\n",
    "        Returns:\n",
    "            node_count, link_count (int, int) : a tuple containing the number of nodes and the number of links in \n",
    "            the graph\n",
    "    '''\n",
    "    node_set = set()\n",
    "    node_count = 0\n",
    "    link_count = 0\n",
    "    with open(file_name, \"r\") as my_file:\n",
    "        for line in my_file:\n",
    "            if line[0] != \"#\": # supposing that comments start with a '#' symbol\n",
    "                line = line.split() # supposing a space between two nodes\n",
    "                node1 = int(line[0]) # supposing that nodes are numbers formated in file\n",
    "                node2 = int(line[1])\n",
    "                link_count += 1 # if a same link appears several times, it will be counted as many times\n",
    "                if node1 not in node_set:\n",
    "                    node_set.add(node1)\n",
    "                    node_count += 1\n",
    "                if node2 not in node_set:\n",
    "                    node_set.add(node2)\n",
    "                    node_count +=1  \n",
    "    return node_count, link_count\n",
    "def load_clean_graph(input_name, output_name = None):\n",
    "    '''\n",
    "    load_clean_graph(input_name, output_name = None)\n",
    "    \n",
    "    Delete self-loops and duplicated edges existing in the graph and writes it in a new test file\"\n",
    "        Parameters:\n",
    "            input_name (string) : name of the file storing the graph with self loops and duplicated edges\n",
    "            output_name (string) (optional) : name of the file that will store the graph without self \n",
    "            loops and duplicated edges. If no output is defined the new graph will not be stored in a file\n",
    "        Returns:\n",
    "            my_graph (dictionary of lists) : the graph without self loops and duplicated edges\n",
    "    '''\n",
    "    my_graph = {}\n",
    "    if output_name is not None:\n",
    "        output_file = open(output_name, \"w\")\n",
    "    with open(input_name, \"r\") as input_file:\n",
    "        for line in input_file:\n",
    "\n",
    "            if line[0] != \"#\":\n",
    "                line = line.split()\n",
    "                node1 = int(line[0])\n",
    "                node2 = int(line[1])\n",
    "                if node1 != node2:\n",
    "                    if node1 in my_graph:\n",
    "                        if node2 not in my_graph[node1]:\n",
    "                            my_graph[node1].append(node2)\n",
    "                            if output_name is not None:\n",
    "                                output_file.write(f\"{node1} {node2}\\n\")\n",
    "                    else:\n",
    "                        my_graph[node1] = [node2]\n",
    "                    if node2 in my_graph:\n",
    "                        if node1 not in my_graph[node2]:\n",
    "                            my_graph[node2].append(node1)\n",
    "                            if output_name is not None:\n",
    "                                output_file.write(f\"{node2} {node1}\\n\")\n",
    "                    else:\n",
    "                        my_graph[node2] = [node1]\n",
    "    if output_name is not None:\n",
    "        output_file.close()\n",
    "    return my_graph"
   ]
  },
  {
   "cell_type": "code",
   "execution_count": null,
   "metadata": {},
   "outputs": [],
   "source": [
    "if __name__ == '__main__'  and '__file__' not in globals():\n",
    "    node_count, link_count = node_link(amazon)\n",
    "    print(\"Amazon \\t\", f\"Node : {node_count}, Link : {link_count}\")\n",
    "    node_count, link_count = node_link(core)\n",
    "    print(\"Core \\t\", f\"Node : {node_count}, Link : {link_count}\")\n",
    "    #count_node_edge(lj)\n",
    "    amazon_graph = load_clean_graph(amazon)\n",
    "    print(\"Amazon graph loaded\")\n",
    "    core_graph = load_clean_graph(core)\n",
    "    print(\"Core graph loaded\")"
   ]
  },
  {
   "cell_type": "markdown",
   "metadata": {},
   "source": [
    "## Exercise 1: BFS\n",
    "\n",
    "### 1.1 Components\n",
    "\n",
    "- Implement a BFS algorithm.  \n",
    "\n",
    "- Use it on each of the graphs to evaluate the size of the largest connected component of these graphs.\n",
    "\n",
    "Warning: if your BFS is not well coded, it can be very long, so if it doesn't work on Amazon or LiveJournal in less than a few minutes, either improve your code, or test only on smaller graphs. "
   ]
  },
  {
   "cell_type": "code",
   "execution_count": null,
   "metadata": {},
   "outputs": [],
   "source": [
    "def bfs(my_graph):\n",
    "    '''\n",
    "    bfs(my_graph)\n",
    "    \n",
    "    Evaluate the size of the largest connect component of the graph 'my_graph' by going through all nodes of the \n",
    "    graph and identifying the connected component that contains the node\n",
    "        Parameters:\n",
    "            my_graph (dictionary of lists)\n",
    "        Returns:\n",
    "            my_lcc : the size of the largest connected component of 'my_graph'\n",
    "    '''\n",
    "    my_cc = {}\n",
    "    cc_index = 0\n",
    "    for source in my_graph.keys():\n",
    "        if source not in my_cc:\n",
    "            my_queue = [source]\n",
    "            marked_node = [source]\n",
    "            while my_queue:\n",
    "                node1 = my_queue.pop(0)\n",
    "                my_cc[node1] = cc_index\n",
    "                for node2 in my_graph[node1]:\n",
    "                    if node2 not in marked_node:\n",
    "                        my_queue.append(node2)\n",
    "                        marked_node.append(node2)\n",
    "            cc_index += 1\n",
    "    \n",
    "    cc_sizes = {}\n",
    "    for node in my_cc:\n",
    "        cc_index = my_cc[node]\n",
    "        if cc_index in cc_sizes:\n",
    "            cc_sizes[cc_index] += 1\n",
    "        else:\n",
    "            cc_sizes[cc_index] = 1\n",
    "    return max(list(cc_sizes.values()))\n",
    "    "
   ]
  },
  {
   "cell_type": "code",
   "execution_count": null,
   "metadata": {},
   "outputs": [],
   "source": [
    "if __name__ == '__main__'  and '__file__' not in globals():\n",
    "    print(bfs(core_graph))"
   ]
  },
  {
   "cell_type": "code",
   "execution_count": null,
   "metadata": {},
   "outputs": [],
   "source": [
    " if __name__ == '__main__'  and '__file__' not in globals():\n",
    "\n",
    "    bfs(amazon_graph) # takes too much time"
   ]
  },
  {
   "cell_type": "markdown",
   "metadata": {},
   "source": [
    "### 1.2 Distances\n",
    "\n",
    "- Modify the BFS above to have it compute the distance to the source node.\n",
    "\n",
    "- Using the fact that the diameter is necessarily larger than any distance measured, use your distance computation code to get a lower bound of the diameter. The higher the bound, the better."
   ]
  },
  {
   "cell_type": "code",
   "execution_count": null,
   "metadata": {},
   "outputs": [],
   "source": [
    "def distances(my_graph, source_node):\n",
    "    '''\n",
    "    distances(my_graph, source_node)\n",
    "    \n",
    "    Returns the distances of each node to the source node as a dictionary\n",
    "        Parameters:\n",
    "            my_graph (dictionary of lists)\n",
    "            source_node (int) : the node from which we will compute the distances\n",
    "        Returns:\n",
    "            my_distances : A dictionary which keys are the nodes and the values are the distances from the \n",
    "            key to 'source_node'\n",
    "    '''\n",
    "    my_queue = [source_node]\n",
    "    my_distances = {}\n",
    "    for node in my_graph:\n",
    "        my_distances[node] = -1\n",
    "    my_distances[source_node] = 0\n",
    "    while my_queue:\n",
    "        node1 = my_queue.pop(0)\n",
    "        for node2 in my_graph[node1]:\n",
    "            if my_distances[node2] == -1:\n",
    "                my_queue.append(node2)\n",
    "                my_distances[node2] = my_distances[node1] + 1\n",
    "    return my_distances\n",
    "\n",
    "def diameter(my_graph, sample_size):\n",
    "    '''\n",
    "    diameter(my_graph, sample_size)\n",
    "    \n",
    "    Compute an approximate diameter of the  graph 'my_graph' by running a bfs algorithm on a sample of nodes \n",
    "    and taking the max of the distances\n",
    "        Parameters:\n",
    "            my_graph (dictionary of lists)\n",
    "            sample_size (int) : the number of nodes in the graph that will be used to find the diameter\n",
    "        Returns:\n",
    "            my_diameter (int) : the approximate maximum distance in the graph\n",
    "    '''\n",
    "    my_diameter = -1\n",
    "    nodes = list(my_graph.keys())\n",
    "    for i in range(sample_size):\n",
    "        my_distances = distances(my_graph, nodes.pop(random.randint(0,len(nodes) - 1)))\n",
    "        my_diameter = max(my_diameter, max(list(my_distances.values())))\n",
    "    return my_diameter"
   ]
  },
  {
   "cell_type": "code",
   "execution_count": null,
   "metadata": {},
   "outputs": [],
   "source": [
    "if __name__ == '__main__'  and '__file__' not in globals():\n",
    "    #print(json.dumps(compute_distance(core_graph, 0),indent = 4))\n",
    "    print(f\"The diameter of the graph 'Core' is {diameter(core_graph, 500)}\")"
   ]
  },
  {
   "cell_type": "markdown",
   "metadata": {},
   "source": [
    "## Exercise 2: Triangles\n",
    "\n",
    "### 2.1 Raw triangle counting\n",
    "\n",
    "- Implement a triangle counting algorithm. \n",
    "\n",
    "- Test your program on the 3 graphs and report the number of triangles as well as the running time of your program."
   ]
  },
  {
   "cell_type": "code",
   "execution_count": null,
   "metadata": {},
   "outputs": [],
   "source": [
    "def triangle(my_graph):\n",
    "    '''\n",
    "    triangle(my_graph)\n",
    "    \n",
    "    Returns the number of triangles in the graph 'my_graph'\n",
    "        Parameters:\n",
    "            my_graph (dictionary of lists)\n",
    "        Returns:\n",
    "            triangle_count (int) : the number of triangles in the graph\n",
    "    '''\n",
    "    triangle_count = 0\n",
    "    for node1 in my_graph:\n",
    "        for node2 in my_graph[node1]:\n",
    "            if node1 < node2:\n",
    "                for node3 in my_graph[node1]:\n",
    "                    if node3 in my_graph[node2]: # node3 in N(node1) and N(node2)\n",
    "                        if node2 < node3:\n",
    "                            triangle_count += 1\n",
    "    return triangle_count"
   ]
  },
  {
   "cell_type": "code",
   "execution_count": null,
   "metadata": {},
   "outputs": [],
   "source": [
    "if __name__ == '__main__'  and '__file__' not in globals():\n",
    "    start_time = time.time()\n",
    "    triangle_count = triangle(core_graph)\n",
    "    end_time = time.time()\n",
    "    print(f\"Triangles : {triangle_count}\")\n",
    "    print(f\"Running time : {end_time - start_time} seconds\")"
   ]
  },
  {
   "cell_type": "code",
   "execution_count": null,
   "metadata": {},
   "outputs": [],
   "source": [
    "if __name__ == '__main__'  and '__file__' not in globals():\n",
    "    start_time = time.time()\n",
    "    triangle_count = triangle(amazon_graph)\n",
    "    end_time = time.time()\n",
    "    print(f\"Triangles : {triangle_count}\")\n",
    "    print(f\"Running time : {end_time - start_time} seconds\")"
   ]
  },
  {
   "cell_type": "markdown",
   "metadata": {},
   "source": [
    "### 2.2 Transitive ratio\n",
    "\n",
    "Use this program to compute the transitive ratio of the graphs. Remember that the transitive ratio is defined as \n",
    "$$ \\frac{3.number \\ of \\ triangles}{number \\ of \\ forks}$$\n",
    "and that the number of forks (or connected triples) of a node of degree $d$ is simply $\\frac{d(d-1)}{2}$."
   ]
  },
  {
   "cell_type": "code",
   "execution_count": null,
   "metadata": {},
   "outputs": [],
   "source": [
    "def trans_ratio(my_graph):\n",
    "    '''\n",
    "    trans_ratio(my_graph)\n",
    "    \n",
    "    Returns the transitive ratio of 'my_graph'\n",
    "        Parameters:\n",
    "            my_graph (dictionary of lists)\n",
    "        Returns\n",
    "            transitive_ratio (float) : the transitive ratio of the graph\n",
    "    '''\n",
    "    fork_count = 0\n",
    "    for node in my_graph:\n",
    "        degree_node = len(my_graph[node])\n",
    "        fork_count += degree_node * (degree_node - 1) / 2\n",
    "    triangle_count = count_triangle(my_graph)\n",
    "    transitive_ratio = 3 * triangle_count / fork_count\n",
    "    return transitive_ratio\n",
    "    "
   ]
  },
  {
   "cell_type": "code",
   "execution_count": null,
   "metadata": {},
   "outputs": [],
   "source": [
    "if __name__ == '__main__'  and '__file__' not in globals():\n",
    "    trans_ratio(core_graph)"
   ]
  },
  {
   "cell_type": "code",
   "execution_count": null,
   "metadata": {},
   "outputs": [],
   "source": [
    "if __name__ == '__main__'  and '__file__' not in globals():\n",
    "    trans_ratio(amazon_graph)"
   ]
  },
  {
   "cell_type": "code",
   "execution_count": null,
   "metadata": {},
   "outputs": [],
   "source": []
  }
 ],
 "metadata": {
  "kernelspec": {
   "display_name": "Python 3",
   "language": "python",
   "name": "python3"
  },
  "language_info": {
   "codemirror_mode": {
    "name": "ipython",
    "version": 3
   },
   "file_extension": ".py",
   "mimetype": "text/x-python",
   "name": "python",
   "nbconvert_exporter": "python",
   "pygments_lexer": "ipython3",
   "version": "3.8.8"
  }
 },
 "nbformat": 4,
 "nbformat_minor": 2
}
