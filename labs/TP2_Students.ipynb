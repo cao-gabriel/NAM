{
 "cells": [
  {
   "cell_type": "markdown",
   "metadata": {},
   "source": [
    "# Lab2 (Student version)"
   ]
  },
  {
   "cell_type": "code",
   "execution_count": null,
   "metadata": {},
   "outputs": [],
   "source": [
    "import random\n",
    "import matplotlib.pyplot as plt\n",
    "import sys\n",
    "import time"
   ]
  },
  {
   "cell_type": "markdown",
   "metadata": {},
   "source": [
    "Download the three following graphs:\n",
    "- http://snap.stanford.edu/data/email-Eu-core.html\n",
    "- http://snap.stanford.edu/data/com-Amazon.html\n",
    "- http://snap.stanford.edu/data/com-LiveJournal.html\n",
    "\n",
    "It is also useful to consider some toy graphs (e.g. manually created graphs with a dozen nodes) to test your programs."
   ]
  },
  {
   "cell_type": "markdown",
   "metadata": {},
   "source": [
    "## Exercise 0: preliminaries\n",
    "\n",
    "Using the codes of Lab1, load the graphs in memory as dictionary of lists and check their number of nodes and links."
   ]
  },
  {
   "cell_type": "code",
   "execution_count": null,
   "metadata": {},
   "outputs": [],
   "source": [
    "def remove_loop_dupes(graph):\n",
    "    for node in graph:\n",
    "        graph[node] = list(dict.fromkeys(graph[node]))\n",
    "        try:\n",
    "            graph[node].remove(node)\n",
    "        except ValueError:\n",
    "            pass\n",
    "\n",
    "def graph_from_file(file_name):\n",
    "    graph = {}\n",
    "    with open(file_name, \"r\") as graph_file:\n",
    "        for line in graph_file:\n",
    "            try:\n",
    "                node1, node2 = [int(node) for node in line.split()]\n",
    "                if node1 not in graph:\n",
    "                    graph[node1] = []\n",
    "                graph[node1].append(node2)\n",
    "                if node2 not in graph:\n",
    "                    graph[node2]= []\n",
    "                graph[node2].append(node1)\n",
    "            except:\n",
    "                pass\n",
    "    remove_loop_dupes(graph)\n",
    "    return graph\n",
    "\n",
    "\n",
    "def graph_to_file(graph, file_name):\n",
    "    with open(file_name, \"w\") as graph_file:\n",
    "        for node1 in graph:\n",
    "            for node2 in graph[node1]:\n",
    "                graph_file.write(\"{} {}\\n\".format(node1, node2))\n",
    "def count_links(graph):\n",
    "    link_count = 0\n",
    "    for node in graph:\n",
    "        link_count += len(graph[node])\n",
    "    return link_count // 2\n",
    "def compute_degree_dist(graph):\n",
    "    degree_dist = {}\n",
    "    for node in graph:\n",
    "        degree = len(graph[node])\n",
    "        if degree not in degree_dist:\n",
    "            degree_dist[degree] = 0\n",
    "        degree_dist[degree] += 1\n",
    "    return degree_dist"
   ]
  },
  {
   "cell_type": "code",
   "execution_count": null,
   "metadata": {},
   "outputs": [],
   "source": [
    "email_graph = graph_from_file(\"res/email-Eu-core.txt\")\n",
    "amazon_graph = graph_from_file(\"res/com-amazon.ungraph.txt\")\n",
    "# lj_graph = graph_from_file(\"res/com-lj.ungraph.txt\")"
   ]
  },
  {
   "cell_type": "markdown",
   "metadata": {},
   "source": [
    "## Exercise 1: BFS\n",
    "\n",
    "### 1.1 Components\n",
    "\n",
    "- Implement a BFS algorithm.  \n",
    "\n",
    "- Use it on each of the graphs to evaluate the size of the largest connected component of these graphs.\n",
    "\n",
    "Warning: if your BFS is not well coded, it can be very long, so if it doesn't work on Amazon or LiveJournal in less than a few minutes, either improve your code, or test only on smaller graphs. "
   ]
  },
  {
   "cell_type": "code",
   "execution_count": null,
   "metadata": {},
   "outputs": [],
   "source": [
    "def bfs(graph, node_start):\n",
    "    queue = [node_start]\n",
    "    marked = [node_start]\n",
    "    while queue:\n",
    "        node1 = queue.pop(0)\n",
    "        for node2 in graph[node1]:\n",
    "            if node2 not in marked:\n",
    "                queue.append(node2)\n",
    "                marked.append(node2)\n",
    "    return marked\n",
    "\n",
    "def compute_size_lcc(graph):\n",
    "    nodes_cc_index = {}\n",
    "    cc_index = 0\n",
    "    cc_sizes = []\n",
    "    for node in graph:\n",
    "        nodes_cc_index[node] = -1\n",
    "    for node in graph:\n",
    "        if nodes_cc_index[node] == -1:\n",
    "            cc = bfs(graph, node)\n",
    "            cc_sizes.append(len(cc))\n",
    "            for node_marked in cc:\n",
    "                nodes_cc_index[node_marked] = cc_index\n",
    "            cc_index += 1\n",
    "    return max(cc_sizes)\n",
    "    "
   ]
  },
  {
   "cell_type": "code",
   "execution_count": null,
   "metadata": {},
   "outputs": [],
   "source": [
    "email_graph = graph_from_file(\"res/email-Eu-core.txt\")\n",
    "compute_size_lcc(email_graph)"
   ]
  },
  {
   "cell_type": "markdown",
   "metadata": {},
   "source": [
    "### 1.2 Distances\n",
    "\n",
    "- Modify the BFS above to have it compute the distance to the source node.\n",
    "\n",
    "- Using the fact that the diameter is necessarily larger than any distance measured, use your distance computation code to get a lower bound of the diameter. The higher the bound, the better."
   ]
  },
  {
   "cell_type": "code",
   "execution_count": null,
   "metadata": {},
   "outputs": [],
   "source": [
    "def compute_distance(graph, node_start):\n",
    "    queue = [node_start]\n",
    "    distances = {}\n",
    "    for node in graph:\n",
    "        distances[node] = -1\n",
    "    distances[node_start] = 0\n",
    "    while queue:\n",
    "        node1 = queue.pop(0)\n",
    "        for node2 in graph[node1]:\n",
    "            if distances[node2] == -1:\n",
    "                queue.append(node2)\n",
    "                distances[node2] = distances[node1] + 1\n",
    "    return distances\n",
    "\n",
    "def compute_diameter(graph, sample_size=10):\n",
    "    nodes_start = random.choices(list(graph.keys()), k=sample_size)\n",
    "    return max([max(compute_distance(graph, node_start).values()) for node_start in nodes_start])\n"
   ]
  },
  {
   "cell_type": "code",
   "execution_count": null,
   "metadata": {},
   "outputs": [],
   "source": [
    "email_graph = graph_from_file(\"res/email-Eu-core.txt\")\n",
    "compute_diameter(email_graph, sample_size=100)"
   ]
  },
  {
   "cell_type": "markdown",
   "metadata": {},
   "source": [
    "## Exercise 2: Triangles\n",
    "\n",
    "### 2.1 Raw triangle counting\n",
    "\n",
    "- Implement a triangle counting algorithm. \n",
    "\n",
    "- Test your program on the 3 graphs and report the number of triangles as well as the running time of your program."
   ]
  },
  {
   "cell_type": "code",
   "execution_count": null,
   "metadata": {},
   "outputs": [],
   "source": [
    "def count_triangle(graph):\n",
    "    triangle_count = 0\n",
    "    for node1 in graph:\n",
    "        for node2 in graph[node1]:\n",
    "            if node1 < node2:\n",
    "                for node3 in graph[node1]:\n",
    "                    if node3 in graph[node2] and node2 < node3:\n",
    "                        triangle_count += 1\n",
    "    return triangle_count"
   ]
  },
  {
   "cell_type": "code",
   "execution_count": null,
   "metadata": {},
   "outputs": [],
   "source": [
    "email_graph = graph_from_file(\"res/email-Eu-core.txt\")\n",
    "start_time = time.time()\n",
    "count_triangle(email_graph)\n",
    "print(\"{} seconds\".format(time.time() - start_time))"
   ]
  },
  {
   "cell_type": "markdown",
   "metadata": {},
   "source": [
    "### 2.2 Transitive ratio\n",
    "\n",
    "Use this program to compute the transitive ratio of the graphs. Remember that the transitive ratio is defined as \n",
    "$$ \\frac{3.number \\ of \\ triangles}{number \\ of \\ forks}$$\n",
    "and that the number of forks (or connected triples) of a node of degree $d$ is simply $\\frac{d(d-1)}{2}$."
   ]
  },
  {
   "cell_type": "code",
   "execution_count": null,
   "metadata": {},
   "outputs": [],
   "source": [
    "def compute_transitive_ratio(graph):\n",
    "    degree_dist = compute_degree_dist(graph)\n",
    "    fork_count = 0\n",
    "    for degree in degree_dist:\n",
    "        fork_count += degree_dist[degree] * (degree * degree - 1) / 2\n",
    "    return 3 * count_triangle(graph) / fork_count"
   ]
  },
  {
   "cell_type": "code",
   "execution_count": null,
   "metadata": {},
   "outputs": [],
   "source": [
    "email_graph = graph_from_file(\"res/email-Eu-core.txt\")\n",
    "compute_transitive_ratio(email_graph)"
   ]
  },
  {
   "cell_type": "code",
   "execution_count": null,
   "metadata": {},
   "outputs": [],
   "source": []
  }
 ],
 "metadata": {
  "kernelspec": {
   "display_name": "Python 3 (ipykernel)",
   "language": "python",
   "name": "python3"
  },
  "language_info": {
   "codemirror_mode": {
    "name": "ipython",
    "version": 3
   },
   "file_extension": ".py",
   "mimetype": "text/x-python",
   "name": "python",
   "nbconvert_exporter": "python",
   "pygments_lexer": "ipython3",
   "version": "3.8.10"
  }
 },
 "nbformat": 4,
 "nbformat_minor": 2
}
